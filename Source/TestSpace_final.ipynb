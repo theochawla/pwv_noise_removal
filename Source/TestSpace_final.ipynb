{
 "cells": [
  {
   "cell_type": "code",
   "execution_count": 1,
   "id": "ca11d7c3-12fd-4ecc-9f66-2d802cdf5a49",
   "metadata": {},
   "outputs": [],
   "source": [
    "import numpy as np\n",
    "from astropy.io import ascii\n",
    "from pylab import *\n",
    "from astropy.table import Table, vstack\n",
    "import pandas as pd\n",
    "from expecto import get_spectrum\n",
    "from scipy.interpolate import RegularGridInterpolator as rgi\n",
    "from itertools import product\n",
    "%run Interpolate.ipynb\n",
    "%run GetSpectra.ipynb\n",
    "%run Binning.ipynb"
   ]
  },
  {
   "cell_type": "code",
   "execution_count": 2,
   "id": "c60e36cc-a79f-49cb-b5cf-d18c48e01640",
   "metadata": {},
   "outputs": [],
   "source": [
    "water_array = [1.0, 1.5, 2.5, 3.5, 5.0]\n",
    "\n",
    "'''\n",
    "reads in .dat files. col1 is wavelength, col2 is transmission. Files are labeled with water content level in mm \n",
    "water content levels are listed in the array above. resolution is 200,000.\n",
    "'''\n",
    "\n",
    "d = {}\n",
    "i=0\n",
    "for n in water_array:\n",
    "    water_content = str(water_array[i])\n",
    "    d[\"data\"+water_content] = ascii.read(\"transmission{0}_hi_res.dat\".format(water_content))\n",
    "    d[\"data\"+water_content+\"_pd\"] = d[\"data\"+water_content].to_pandas()\n",
    "    #print(d[\"data\"+water_content+\"_pd\"])\n",
    "    i+=1"
   ]
  },
  {
   "cell_type": "code",
   "execution_count": 3,
   "id": "36819442-76d6-4353-b3d9-1751b02373db",
   "metadata": {},
   "outputs": [],
   "source": [
    "'''\n",
    "for loop creates transmission values in shape necessary for interpolation function\n",
    "'''\n",
    "water_array = [1.0, 1.5, 2.5, 3.5, 5.0]\n",
    "\n",
    "flux_array = []\n",
    "i=0\n",
    "for n in water_array:\n",
    "    water_array_i = str(water_array[i])\n",
    "    d[\"flux\"+water_array_i] = np.array(d[\"data\"+water_array_i+\"_pd\"][\"col2\"])\n",
    "    flux_array.append(d[\"flux\"+water_array_i])\n",
    "    i+=1"
   ]
  },
  {
   "cell_type": "code",
   "execution_count": 4,
   "id": "fadd2333-db0a-43b1-ab60-35e4f9f7125d",
   "metadata": {},
   "outputs": [],
   "source": [
    "pwv = np.load(\"pwv_target.npy\")"
   ]
  },
  {
   "cell_type": "code",
   "execution_count": 45,
   "id": "c4fa8ede-b52d-42b3-87d6-9506f856473a",
   "metadata": {},
   "outputs": [],
   "source": [
    "def diff_spec(target_temp, ref_temp, target_pwv, ref_pwv, wave_in, wave_out, res=200, exp_time = 3600, throughput = .4):\n",
    "    target_spec = spectrum(target_temp)\n",
    "    ref_spec = spectrum(ref_temp)\n",
    "    target_binned = binned_flux_pwv(target_spec, wave_in, wave_out, res)\n",
    "    ref_binned = binned_flux_pwv(ref_spec, wave_in, wave_out, res)\n",
    "    target_stacked = stacking(target_binned)\n",
    "    ref_stacked = stacking(ref_binned)\n",
    "    diff = division(target_stacked, ref_stacked)\n",
    "    \n",
    "    print(diff[0])\n",
    "    \n",
    "    normalized_array = []\n",
    "    #photon_noise_array = \n",
    "    \n",
    "    i=0\n",
    "    for n in diff:\n",
    "        photon_noise_i = photon_noise(diff[i], .5, exp_time, throughput)\n",
    "        print(photon_noise_i)\n",
    "        noisy_diff = diff[i]*photon_noise_i\n",
    "        diff_mean = np.mean(diff[i])\n",
    "        normalized = (diff[i]-diff_mean)/diff_mean\n",
    "        normalized_array.append(normalized)\n",
    "        #j=0\n",
    "        #for n in normalized:\n",
    "            #photon_noise(normalized[j], .5, exp_time, throughput\n",
    "        #print(diff_mean)\n",
    "        i+=1\n",
    "    #diff_mean = np.mean(diff)\n",
    "    #normalized = (diff-diff_mean)/diff_mean\n",
    "    \n",
    "    return normalized_array"
   ]
  },
  {
   "cell_type": "code",
   "execution_count": 63,
   "id": "1a4ec43a-5c8e-4d03-b45b-141b0dfe0a2a",
   "metadata": {},
   "outputs": [],
   "source": [
    "def diff_spec(target_temp, ref_temp, target_pwv, ref_pwv, wave_in, wave_out, res=200, exp_time = 3600, throughput = .4):\n",
    "    target_spec = spectrum(target_temp)\n",
    "    ref_spec = spectrum(ref_temp)\n",
    "    target_binned = binned_flux_pwv(target_spec, wave_in, wave_out, res)\n",
    "    ref_binned = binned_flux_pwv(ref_spec, wave_in, wave_out, res)\n",
    "    target_stacked = stacking(target_binned)\n",
    "    ref_stacked = stacking(ref_binned)\n",
    "    diff = division_noise(target_stacked, ref_stacked)\n",
    "    \n",
    "    #print(diff[0])\n",
    "    \n",
    "    normalized_array = []\n",
    "    #photon_noise_array = \n",
    "    \n",
    "    i=0\n",
    "    for n in diff:\n",
    "        '''\n",
    "        input to photon noise needs to be actual flux value, not relative value after division. Needs to be multiplied into\n",
    "        both target and ref fluxes?\n",
    "        '''\n",
    "        #photon_noise_i = photon_noise(diff[i], .5, exp_time, throughput)\n",
    "        #print(photon_noise_i)\n",
    "        #noisy_diff = diff[i]*photon_noise_i\n",
    "        diff_mean = np.mean(diff[i])\n",
    "        normalized = (diff[i]-diff_mean)/diff_mean\n",
    "        normalized_array.append(normalized)\n",
    "        #j=0\n",
    "        #for n in normalized:\n",
    "            #photon_noise(normalized[j], .5, exp_time, throughput\n",
    "        #print(diff_mean)\n",
    "        i+=1\n",
    "    #diff_mean = np.mean(diff)\n",
    "    #normalized = (diff-diff_mean)/diff_mean\n",
    "    \n",
    "    return normalized_array"
   ]
  },
  {
   "cell_type": "code",
   "execution_count": 71,
   "id": "3c8a1fca-d1a1-4251-867d-59eabdec10bc",
   "metadata": {},
   "outputs": [],
   "source": [
    "#diff_spec = diff_spec(4000, 6000, pwv, pwv, 1.8, 1.95)"
   ]
  },
  {
   "cell_type": "code",
   "execution_count": 72,
   "id": "bffd2e88-dbf9-4f12-920b-9b8b27d24077",
   "metadata": {},
   "outputs": [],
   "source": [
    "cold_test = spectrum(4000)\n",
    "hot_test = spectrum(6000)"
   ]
  },
  {
   "cell_type": "code",
   "execution_count": 88,
   "id": "be503050-ae5c-4883-94aa-32e0b7bbb8ca",
   "metadata": {},
   "outputs": [],
   "source": [
    "def division_noise(target_array, ref_array):\n",
    "    new_array1 = []\n",
    "    #new_array2\n",
    "    i=0\n",
    "    #for n in target_array[0]:\n",
    "    '''\n",
    "    this is test version, will need the above line with index for actual version since input will be nested array\n",
    "    '''\n",
    "    for n in target_array:\n",
    "        #print(i)\n",
    "        target_array_i = np.array(target_array[:,i])\n",
    "        #print(target_array_i)\n",
    "        ref_array_i = np.array(ref_array[:,i])\n",
    "        target_noise = photon_noise(target_array_i)\n",
    "        print(target_noise[0:10])\n",
    "        ref_noise = photon_noise(ref_array_i)\n",
    "        print(ref_noise[0:10])\n",
    "        noisy_target_i = target_noise*target_array_i\n",
    "        print(noisy_target_i[0:10])\n",
    "        noisy_ref_i = ref_noise*ref_array_i\n",
    "        print(noisy_ref_i[0:10])\n",
    "        #print(ref_array_i)\n",
    "        divided_i = noisy_target_i/noisy_ref_i\n",
    "        print(divided_i)\n",
    "        #new_array1 = np.append(new_array1, divided_i)\n",
    "        new_array1.append(divided_i)\n",
    "        #print(divided_i)\n",
    "        i+=1\n",
    "        #print(i)\n",
    "    return new_array1\n",
    "\n",
    "#cold_star_abs1_test3[:,0]\n"
   ]
  },
  {
   "cell_type": "code",
   "execution_count": 101,
   "id": "733ad62d-8a59-4252-9365-2d2e031c429c",
   "metadata": {},
   "outputs": [],
   "source": [
    "def division_noise_test(target_array, ref_array):\n",
    "    new_array1 = []\n",
    "    #new_array2\n",
    "    i=0\n",
    "    #for n in target_array[0]:\n",
    "    '''\n",
    "    this is test version, will need the above line with index for actual version since input will be nested array\n",
    "    '''\n",
    "    \n",
    "    '''\n",
    "    for n in target_array:\n",
    "        #print(i)\n",
    "        target_array_i = np.array(target_array[:,i])\n",
    "        #print(target_array_i)\n",
    "        ref_array_i = np.array(ref_array[:,i])\n",
    "        \n",
    "    '''\n",
    "    target_noise = photon_noise(target_array)\n",
    "    print(target_noise)\n",
    "    ref_noise = photon_noise(ref_array)\n",
    "    print(ref_noise)\n",
    "    noisy_target = target_noise*target_array\n",
    "    print(noisy_target)\n",
    "    noisy_ref = ref_noise*ref_array\n",
    "    print(noisy_ref)\n",
    "        #print(ref_array_i)\n",
    "    divided_i = noisy_target/noisy_ref\n",
    "    print(divided_i)\n",
    "        #new_array1 = np.append(new_array1, divided_i)\n",
    "    #new_array1.append(divided_i)\n",
    "        #print(divided_i)\n",
    "        #i+=1\n",
    "        #print(i)\n",
    "    #return new_array1\n",
    "\n",
    "#cold_star_abs1_test3[:,0]\n"
   ]
  },
  {
   "cell_type": "code",
   "execution_count": 117,
   "id": "6254fc8a-866b-46b6-9b8b-124ec94e616e",
   "metadata": {},
   "outputs": [
    {
     "data": {
      "text/plain": [
       "array([3.3291372e+13, 3.3369321e+13, 3.3449899e+13, 3.3521098e+13,\n",
       "       3.3576964e+13, 3.3614044e+13, 3.3632838e+13, 3.3635562e+13,\n",
       "       3.3626880e+13, 3.3610229e+13], dtype=float32)"
      ]
     },
     "execution_count": 117,
     "metadata": {},
     "output_type": "execute_result"
    }
   ],
   "source": [
    "cold_test_flux = np.array(cold_test.flux.value[1258332:1258342])\n",
    "hot_test_flux = np.array(hot_test.flux.value[1258332:1258342])\n",
    "#plt.plot(cold_test.flux.value)\n",
    "cold_test_flux"
   ]
  },
  {
   "cell_type": "code",
   "execution_count": 118,
   "id": "413f4937-64ce-45d8-bce1-0873f34a5797",
   "metadata": {},
   "outputs": [
    {
     "data": {
      "text/plain": [
       "(array([1258332]),)"
      ]
     },
     "execution_count": 118,
     "metadata": {},
     "output_type": "execute_result"
    }
   ],
   "source": [
    "index = np.where(cold_test.wavelength.value == 19500)\n",
    "index\n",
    "\n",
    "#print(cold_test.wavelength)"
   ]
  },
  {
   "cell_type": "code",
   "execution_count": 119,
   "id": "e9c34780-2840-4ba8-af38-1008211f0017",
   "metadata": {},
   "outputs": [
    {
     "name": "stdout",
     "output_type": "stream",
     "text": [
      "[9.4129139e+16 9.4349531e+16 9.4577370e+16 9.4778675e+16 9.4936636e+16\n",
      " 9.5041467e+16 9.5094622e+16 9.5102318e+16 9.5077768e+16 9.5030687e+16]\n",
      "[0.99999999 1.         1.         0.99999999 1.         1.\n",
      " 1.         1.         1.         1.00000001]\n",
      "[1.7029915e+17 1.7038298e+17 1.7044760e+17 1.7050184e+17 1.7055080e+17\n",
      " 1.7059639e+17 1.7063900e+17 1.7067877e+17 1.7071615e+17 1.7075402e+17]\n",
      "[1. 1. 1. 1. 1. 1. 1. 1. 1. 1.]\n",
      "[3.32913713e+13 3.33693207e+13 3.34498996e+13 3.35210976e+13\n",
      " 3.35769637e+13 3.36140435e+13 3.36328382e+13 3.36355624e+13\n",
      " 3.36268801e+13 3.36102290e+13]\n",
      "[6.02310023e+13 6.02606518e+13 6.02835024e+13 6.03026873e+13\n",
      " 6.03199971e+13 6.03361241e+13 6.03511942e+13 6.03652620e+13\n",
      " 6.03784867e+13 6.03918788e+13]\n",
      "[0.55272816 0.55374975 0.55487651 0.55588066 0.5566473  0.55711307\n",
      " 0.55728538 0.55720064 0.5569348  0.55653558]\n"
     ]
    }
   ],
   "source": [
    "division_noise_test(cold_test_flux, hot_test_flux)"
   ]
  },
  {
   "cell_type": "code",
   "execution_count": 74,
   "id": "24b95ceb-d1d8-4190-af35-2b4915e498ab",
   "metadata": {},
   "outputs": [
    {
     "data": {
      "text/plain": [
       "[<matplotlib.lines.Line2D at 0x28fc205b0>]"
      ]
     },
     "execution_count": 74,
     "metadata": {},
     "output_type": "execute_result"
    },
    {
     "data": {
      "image/png": "[encoded data removed]",
      "text/plain": [
       "<Figure size 640x480 with 1 Axes>"
      ]
     },
     "metadata": {},
     "output_type": "display_data"
    }
   ],
   "source": [
    "plt.plot(diff_spec[4])"
   ]
  },
  {
   "cell_type": "code",
   "execution_count": 70,
   "id": "ddf8d9ed-8b1f-49b5-8932-d8ef19e970fe",
   "metadata": {},
   "outputs": [
    {
     "data": {
      "text/plain": [
       "[<matplotlib.lines.Line2D at 0x291586500>]"
      ]
     },
     "execution_count": 70,
     "metadata": {},
     "output_type": "execute_result"
    },
    {
     "data": {
      "image/png": "[encoded data removed]",
      "text/plain": [
       "<Figure size 640x480 with 1 Axes>"
      ]
     },
     "metadata": {},
     "output_type": "display_data"
    }
   ],
   "source": [
    "plt.plot(pwv)"
   ]
  },
  {
   "cell_type": "code",
   "execution_count": null,
   "id": "85c18916-d481-4ce9-a51e-494a90029537",
   "metadata": {},
   "outputs": [],
   "source": [
    "#diff_spec"
   ]
  },
  {
   "cell_type": "code",
   "execution_count": null,
   "id": "5ad03e97-8bd8-472c-8b55-c2a9fb314bbc",
   "metadata": {},
   "outputs": [],
   "source": [
    "plt.plot(diff_spec[3])\n",
    "#len(diff_spec[0])\n",
    "#diff_spec\n",
    "\n",
    "len(diff_spec[20])"
   ]
  },
  {
   "cell_type": "code",
   "execution_count": null,
   "id": "20bebcec-2f7f-4682-bac3-ec21cb354d72",
   "metadata": {},
   "outputs": [],
   "source": [
    "np.pi"
   ]
  },
  {
   "cell_type": "code",
   "execution_count": 160,
   "id": "05f3bbef-935b-42af-98f9-8023444f9e24",
   "metadata": {},
   "outputs": [
    {
     "data": {
      "text/plain": [
       "'\\nthroughput of 0.4, swope is 1m in diameter, hole is .5m in diameter\\n'"
      ]
     },
     "execution_count": 160,
     "metadata": {},
     "output_type": "execute_result"
    }
   ],
   "source": [
    "'''\n",
    "calculates photon noise, normalized to 0. throughput and transmission are fractional values. Transmission is set up to be\n",
    "calculated over array of water content values (for pwv timeseries). \n",
    "\n",
    "Questions: how do we get initial photon count from the star from the flux? In practice I think we could get that value\n",
    "directly from Henrietta's CCD detectors, but how do we do it simulation?\n",
    "\n",
    "I guess if it's normalized, it's really calculting a percentage value and not actual changes in flux, and any flux values\n",
    "could be used.\n",
    "\n",
    "What units for exposure time? (pwv time series, each point is 1 minute) (needs to compare to flux, meausured in photons/sec)\n",
    "\n",
    "re-write in terms of gaussian\n",
    "\n",
    "after re-writing: I'm getting significantly different values from the gaussian and poisson distributions. It seems like \n",
    "poisson dist has much (orders of mag) larger std dev. Maybe I'm using the np version of the random generator wrong?\n",
    "I thought poisson std dev was supposed to decrease with point count, but it still seems large even with values of 10**14\n",
    "\n",
    "missing bin size, should be low resolution bin size\n",
    "'''\n",
    "\n",
    "def photon_noise(flux, mirror_diameter = 1, exp_time = 60, throughput = .4, bin_size):\n",
    "    #mirror_area = np.pi*(mirror_diameter/2)**2\n",
    "    mirror_area = np.pi*((mirror_diameter/2)**2) - np.pi*((.25)**2)\n",
    "    print(\"mirror area:\"+str(mirror_area))\n",
    "    #transmission = interpolate_water(water, wave)\n",
    "    num_photons = flux*mirror_area*exp_time*throughput*bin_size\n",
    "    print(\"num photons:\"+str(num_photons))\n",
    "    noise_std_dev = 1/(num_photons**(1/2))\n",
    "    print(\"noise std dev:\"+str(noise_std_dev))\n",
    "    #photon_noise = np.random.poisson(num_photons, 627)\n",
    "    #noise_mean = np.mean(photon_noise)\n",
    "    #noise_normalized = (photon_noise-noise_mean)/noise_mean\n",
    "    photon_noise_gaussian = np.random.normal(1, noise_std_dev, len(flux))\n",
    "    #return photon_noise\n",
    "    return photon_noise_gaussian\n",
    "\n",
    "\n",
    "'''\n",
    "throughput of 0.4, swope is 1m in diameter, hole is .5m in diameter\n",
    "'''"
   ]
  },
  {
   "cell_type": "code",
   "execution_count": null,
   "id": "47893743-ba36-4014-b1ea-e30f6edf6555",
   "metadata": {},
   "outputs": [],
   "source": []
  },
  {
   "cell_type": "code",
   "execution_count": null,
   "id": "45c9013f-b5bb-4fad-a38e-5478aeb17364",
   "metadata": {},
   "outputs": [],
   "source": []
  },
  {
   "cell_type": "code",
   "execution_count": 167,
   "id": "3ba6c975-4274-42ff-b56f-e574ba62f76f",
   "metadata": {},
   "outputs": [
    {
     "data": {
      "text/plain": [
       "42405194000000.0"
      ]
     },
     "execution_count": 167,
     "metadata": {},
     "output_type": "execute_result"
    }
   ],
   "source": [
    "cold_index = np.where(cold_test.wavelength.value == 18000)\n",
    "cold_index\n",
    "\n",
    "cold_flux = cold_test.flux.value[1208332]\n",
    "cold_flux"
   ]
  },
  {
   "cell_type": "code",
   "execution_count": 162,
   "id": "5386d567-8807-4c9a-be9c-4b88ae27ef6f",
   "metadata": {},
   "outputs": [
    {
     "name": "stdout",
     "output_type": "stream",
     "text": [
      "mirror area:0.5890486225480862\n",
      "num photons:[1.06028752e+12 1.06028752e+12]\n",
      "noise std dev:[9.71154161e-07 9.71154161e-07]\n"
     ]
    },
    {
     "data": {
      "text/plain": [
       "array([0.99999872, 0.99999918])"
      ]
     },
     "execution_count": 162,
     "metadata": {},
     "output_type": "execute_result"
    }
   ],
   "source": [
    "photon_noise(np.array([10**14, 10**14]))"
   ]
  },
  {
   "cell_type": "code",
   "execution_count": 157,
   "id": "b4d06179-6820-4244-98ac-30e66b8cff3e",
   "metadata": {},
   "outputs": [
    {
     "data": {
      "text/plain": [
       "0.19625"
      ]
     },
     "execution_count": 157,
     "metadata": {},
     "output_type": "execute_result"
    }
   ],
   "source": [
    "(.25**2)*3.14"
   ]
  },
  {
   "cell_type": "code",
   "execution_count": 32,
   "id": "4e977775-0c66-4c5c-a5af-96d3da9e0bc7",
   "metadata": {},
   "outputs": [
    {
     "name": "stdout",
     "output_type": "stream",
     "text": [
      "[1015 1014  975 1017  996 1040  990  990 1014  976 1025  948 1053  961\n",
      " 1029  987 1046  970  963  974]\n",
      "[1000.00225961  999.95605395  999.99930695  999.9867987  1000.00858914\n",
      "  999.99168311  999.98622533 1000.0154422   999.99579277 1000.00193852\n",
      " 1000.0074043   999.97230093  999.99515953  999.97010244  999.99506902\n",
      "  999.99672986  999.9892256   999.98894955  999.95032596 1000.01193251]\n"
     ]
    }
   ],
   "source": [
    "'''\n",
    "gaussian and poisson test\n",
    "'''\n",
    "num_photons = 10**3\n",
    "std_dev = 1/(num_photons**(1/2))\n",
    "poisson_test = np.random.poisson(num_photons, 20)\n",
    "normal_test = np.random.normal(np.mean(num_photons), std_dev, 20)\n",
    "\n",
    "print(poisson_test)\n",
    "print(normal_test)"
   ]
  },
  {
   "cell_type": "code",
   "execution_count": 36,
   "id": "0808f2df-eb6f-4fa8-903d-bad5d86a3347",
   "metadata": {},
   "outputs": [],
   "source": [
    "'''\n",
    "poisson std dev test\n",
    "'''\n",
    "num_photons_array = np.linspace(10**4, 10**14, 5)\n",
    "\n",
    "std_dev_array = []\n",
    "\n",
    "\n",
    "i=0\n",
    "for n in num_photons_array:\n",
    "    poisson_test_i = np.random.poisson(num_photons_array[i], 20)\n",
    "    std_dev_i = np.std(poisson_test_i)\n",
    "    std_dev_array.append(std_dev_i)\n",
    "    i+=1"
   ]
  },
  {
   "cell_type": "code",
   "execution_count": 37,
   "id": "33453f44-d38e-4531-8b1f-906aad2af23b",
   "metadata": {},
   "outputs": [
    {
     "data": {
      "text/plain": [
       "[80.97745056495665,\n",
       " 5106037.452856221,\n",
       " 6588586.1604776215,\n",
       " 8482477.175590608,\n",
       " 9496725.200244343]"
      ]
     },
     "execution_count": 37,
     "metadata": {},
     "output_type": "execute_result"
    }
   ],
   "source": [
    "std_dev_array"
   ]
  },
  {
   "cell_type": "code",
   "execution_count": 239,
   "id": "924bee65-46c5-4275-b453-d34ab7e99fc1",
   "metadata": {},
   "outputs": [],
   "source": [
    "#photon_noise(10**4, .5, 3600, .4, 1900, pwv)"
   ]
  },
  {
   "cell_type": "code",
   "execution_count": null,
   "id": "ebb5d0f5-535b-4f87-8069-eb5a8b380841",
   "metadata": {},
   "outputs": [],
   "source": [
    "poisson_test = np.random.poisson(3, 10)\n",
    "poisson_test"
   ]
  },
  {
   "cell_type": "code",
   "execution_count": null,
   "id": "6ec47058-086d-4ee8-bfec-064497a0da23",
   "metadata": {},
   "outputs": [],
   "source": [
    "print(np.mean(poisson_test))"
   ]
  },
  {
   "cell_type": "code",
   "execution_count": null,
   "id": "1d7d358a-827a-4853-a5f9-4ed9219de776",
   "metadata": {},
   "outputs": [],
   "source": [
    "def interpolate_water(water_content, wavelength):\n",
    "    #water_content = [water_content]\n",
    "    wavelength = [wavelength]\n",
    "    wave_array = np.array(d[\"data1.0_pd\"][\"col1\"])\n",
    "    interp = rgi((water_array, wave_array), flux_array)\n",
    "    result = list(product(water_content, wavelength))\n",
    "    #print(result)\n",
    "    return interp(result)"
   ]
  },
  {
   "cell_type": "code",
   "execution_count": null,
   "id": "d8eae0f4-48d4-415c-8a17-5fbd1bf818cc",
   "metadata": {},
   "outputs": [],
   "source": [
    "'''\n",
    "wave_array = np.array(d[\"data1.0_pd\"][\"col1\"])\n",
    "interp = rgi((water_array, wave_array), flux_array)\n",
    "interp((2.0255216801286733, 1900))\n",
    "'''"
   ]
  },
  {
   "cell_type": "code",
   "execution_count": null,
   "id": "c4d96caf-127f-4627-b9a8-7be92797f370",
   "metadata": {},
   "outputs": [],
   "source": [
    "'''\n",
    "right now, wavelength has to be in nm. water content also has to be pwv timeseries.\n",
    "'''\n",
    "\n",
    "\n",
    "def photon_noise(mirror_diameter, exp_time, throughput, wave, water):\n",
    "    mirror_area = np.pi*(mirror_diameter/2)**2\n",
    "    transmission = interpolate_water(water, wave)\n",
    "    num_photons = mirror_area*exp_time*throughput*transmission\n",
    "    #noise_std_dev = 1/(num_photons**(1/2))\n",
    "    photon_noise = np.random.poisson(num_photons, 627)\n",
    "    #print(photon_noise)\n",
    "    noise_mean = np.mean(photon_noise)\n",
    "    noise_normalized = (photon_noise-noise_mean)/noise_mean\n",
    "    return noise_normalized\n",
    "\n",
    "\n",
    "photon_noise = photon_noise(10, 100, .8, 1000, pwv)\n",
    "#interpolate_water(pwv, 1900)"
   ]
  },
  {
   "cell_type": "code",
   "execution_count": null,
   "id": "6d848257-e78d-4b7b-9a83-4ceeca73a31f",
   "metadata": {},
   "outputs": [],
   "source": [
    "plt.hist(photon_noise)"
   ]
  },
  {
   "cell_type": "code",
   "execution_count": null,
   "id": "ab0c8b67-b2ab-4e3a-9a4a-8aca9c4a4cd1",
   "metadata": {},
   "outputs": [],
   "source": []
  },
  {
   "cell_type": "code",
   "execution_count": null,
   "id": "3123bedf-d783-4437-8268-46a56964bff3",
   "metadata": {},
   "outputs": [],
   "source": []
  },
  {
   "cell_type": "code",
   "execution_count": 191,
   "id": "d3da19ba-f02a-4a34-964c-e8a796a67625",
   "metadata": {},
   "outputs": [],
   "source": [
    "cold_star = spectrum(4000)\n",
    "hot_star = spectrum(6000)"
   ]
  },
  {
   "cell_type": "code",
   "execution_count": 192,
   "id": "5f1ce8dc-6de0-4da3-97d6-bf82362ecaf5",
   "metadata": {},
   "outputs": [],
   "source": [
    "binned_cold = binned_flux_pwv(cold_star, 1.8, 1.95, 200)\n",
    "binned_hot = binned_flux_pwv(hot_star, 1.8, 1.95, 200)"
   ]
  },
  {
   "cell_type": "code",
   "execution_count": 210,
   "id": "ac0add16-bd97-4a0c-bd99-74e4eaa52611",
   "metadata": {},
   "outputs": [
    {
     "name": "stdout",
     "output_type": "stream",
     "text": [
      "[18000.         18180.         18361.8        18545.418\n",
      " 18730.87218    18918.1809018  19107.36271082 19298.43633793\n",
      " 19491.42070131]\n",
      "[18000.         18180.         18361.8        18545.418\n",
      " 18730.87218    18918.1809018  19107.36271082 19298.43633793\n",
      " 19491.42070131]\n"
     ]
    }
   ],
   "source": [
    "print(binned_cold[0][1])\n",
    "print(binned_hot[0][1])"
   ]
  },
  {
   "cell_type": "code",
   "execution_count": 211,
   "id": "042df16f-3cf6-451d-ab8f-b0b801c6843a",
   "metadata": {},
   "outputs": [],
   "source": [
    "stacked_cold = stacking(binned_cold)\n",
    "stacked_hot = stacking(binned_hot)"
   ]
  },
  {
   "cell_type": "code",
   "execution_count": 212,
   "id": "42667980-c923-4743-898f-ad18014e0095",
   "metadata": {},
   "outputs": [
    {
     "name": "stdout",
     "output_type": "stream",
     "text": [
      "(array([[3.86023809e+15, 1.92141684e+15, 8.38071309e+14, ...,\n",
      "        1.26350500e+15, 1.82601304e+15, 2.85209222e+15],\n",
      "       [3.85089639e+15, 1.91207900e+15, 8.31621228e+14, ...,\n",
      "        1.25561582e+15, 1.81811074e+15, 2.84406099e+15],\n",
      "       [3.85106658e+15, 1.91224912e+15, 8.31738735e+14, ...,\n",
      "        1.25575954e+15, 1.81825470e+15, 2.84420731e+15],\n",
      "       ...,\n",
      "       [3.83636125e+15, 1.89754986e+15, 8.21585276e+14, ...,\n",
      "        1.24334071e+15, 1.80581523e+15, 2.83156488e+15],\n",
      "       [3.83640062e+15, 1.89758921e+15, 8.21612459e+14, ...,\n",
      "        1.24337396e+15, 1.80584853e+15, 2.83159873e+15],\n",
      "       [3.83746449e+15, 1.89865265e+15, 8.22347022e+14, ...,\n",
      "        1.24427241e+15, 1.80674848e+15, 2.83251336e+15]]), array([18000.        , 18180.        , 18361.8       , 18545.418     ,\n",
      "       18730.87218   , 18918.1809018 , 19107.36271082, 19298.43633793,\n",
      "       19491.42070131]))\n",
      "(array([[7.09878818e+15, 3.49343327e+15, 1.55828513e+15, ...,\n",
      "        2.30311103e+15, 3.32578601e+15, 5.18302947e+15],\n",
      "       [7.08170055e+15, 3.47628251e+15, 1.54630056e+15, ...,\n",
      "        2.28866915e+15, 3.31136343e+15, 5.16834295e+15],\n",
      "       [7.08201185e+15, 3.47659496e+15, 1.54651890e+15, ...,\n",
      "        2.28893225e+15, 3.31162618e+15, 5.16861051e+15],\n",
      "       ...,\n",
      "       [7.05511319e+15, 3.44959693e+15, 1.52765327e+15, ...,\n",
      "        2.26619843e+15, 3.28892273e+15, 5.14549159e+15],\n",
      "       [7.05518520e+15, 3.44966921e+15, 1.52770378e+15, ...,\n",
      "        2.26625929e+15, 3.28898351e+15, 5.14555348e+15],\n",
      "       [7.05713121e+15, 3.45162241e+15, 1.52906863e+15, ...,\n",
      "        2.26790399e+15, 3.29062602e+15, 5.14722605e+15]]), array([18000.        , 18180.        , 18361.8       , 18545.418     ,\n",
      "       18730.87218   , 18918.1809018 , 19107.36271082, 19298.43633793,\n",
      "       19491.42070131]))\n"
     ]
    }
   ],
   "source": [
    "print(stacked_cold)\n",
    "print(stacked_hot)"
   ]
  },
  {
   "cell_type": "code",
   "execution_count": 189,
   "id": "f6ca27e3-7cfb-4183-b841-38c123eaf0d2",
   "metadata": {},
   "outputs": [
    {
     "data": {
      "text/plain": [
       "array([18000.        , 18180.        , 18361.8       , 18545.418     ,\n",
       "       18730.87218   , 18918.1809018 , 19107.36271082, 19298.43633793,\n",
       "       19491.42070131])"
      ]
     },
     "execution_count": 189,
     "metadata": {},
     "output_type": "execute_result"
    }
   ],
   "source": [
    "#photon_noise(stacked[0], stacked[1])"
   ]
  },
  {
   "cell_type": "code",
   "execution_count": 214,
   "id": "3f89fefa-71e2-478d-8821-fc8b16ca39f9",
   "metadata": {},
   "outputs": [],
   "source": [
    "#division(stacked_cold, stacked_hot)"
   ]
  },
  {
   "cell_type": "code",
   "execution_count": 221,
   "id": "ce94b0a7-4548-45c6-ad24-a051dc1c2872",
   "metadata": {},
   "outputs": [],
   "source": [
    "%run Interpolate.ipynb"
   ]
  },
  {
   "cell_type": "code",
   "execution_count": 223,
   "id": "0972a618-3f9c-423a-b6f9-0947ca7e8372",
   "metadata": {},
   "outputs": [],
   "source": [
    "#division_noise(stacked_cold, stacked_hot)"
   ]
  },
  {
   "cell_type": "code",
   "execution_count": 240,
   "id": "09e1621d-ef92-4b0a-96e1-15ea2f73cc33",
   "metadata": {},
   "outputs": [],
   "source": [
    "#diff_spec2 = diff_spec(4000, 6000, pwv, pwv, 1.8, 1.95)"
   ]
  },
  {
   "cell_type": "code",
   "execution_count": null,
   "id": "06508eb7-b8da-4db3-abc8-e66260e1eb06",
   "metadata": {},
   "outputs": [],
   "source": []
  },
  {
   "cell_type": "code",
   "execution_count": null,
   "id": "103ca173-1c06-4ce9-abc9-67b808066f8f",
   "metadata": {},
   "outputs": [],
   "source": []
  },
  {
   "cell_type": "code",
   "execution_count": 231,
   "id": "6142678b-1f0c-4382-9957-3dca80261daf",
   "metadata": {},
   "outputs": [
    {
     "data": {
      "text/plain": [
       "16"
      ]
     },
     "execution_count": 231,
     "metadata": {},
     "output_type": "execute_result"
    },
    {
     "data": {
      "image/png": "[encoded data removed]",
      "text/plain": [
       "<Figure size 640x480 with 1 Axes>"
      ]
     },
     "metadata": {},
     "output_type": "display_data"
    }
   ],
   "source": [
    "plt.plot(diff_spec2[4])\n",
    "len(diff_spec2)"
   ]
  },
  {
   "cell_type": "code",
   "execution_count": 248,
   "id": "fff13715-50ce-4ace-9958-fcd450701386",
   "metadata": {},
   "outputs": [
    {
     "data": {
      "text/plain": [
       "'\\nthroughput of 0.4, swope is 1m in diameter, hole is .5m in diameter\\n'"
      ]
     },
     "execution_count": 248,
     "metadata": {},
     "output_type": "execute_result"
    }
   ],
   "source": [
    "'''\n",
    "calculates photon noise, normalized to 0. throughput and transmission are fractional values. Transmission is set up to be\n",
    "calculated over array of water content values (for pwv timeseries). \n",
    "\n",
    "Questions: how do we get initial photon count from the star from the flux? In practice I think we could get that value\n",
    "directly from Henrietta's CCD detectors, but how do we do it simulation?\n",
    "\n",
    "I guess if it's normalized, it's really calculting a percentage value and not actual changes in flux, and any flux values\n",
    "could be used.\n",
    "\n",
    "What units for exposure time? (pwv time series, each point is 1 minute) (needs to compare to flux, meausured in photons/sec)\n",
    "\n",
    "re-write in terms of gaussian\n",
    "\n",
    "after re-writing: I'm getting significantly different values from the gaussian and poisson distributions. It seems like \n",
    "poisson dist has much (orders of mag) larger std dev. Maybe I'm using the np version of the random generator wrong?\n",
    "I thought poisson std dev was supposed to decrease with point count, but it still seems large even with values of 10**14\n",
    "\n",
    "missing bin size, should be low resolution bin size\n",
    "\n",
    "Note: right now, bin sizes are in angstroms, since this is the unit that the hi-res flux comes with. Bin sizes are filtered\n",
    "from binning function to stacking to division_noise to photon_noise. bin sizes for 1.8-1.95 microns are about 180-190 A. \n",
    "'''\n",
    "\n",
    "def photon_noise_nobin(flux, bin_size, mirror_diameter = 1, exp_time = 60, throughput = .4):\n",
    "    \n",
    "    mirror_area = np.pi*((mirror_diameter/2)**2) - np.pi*((.25)**2)\n",
    "    print(\"mirror area:\"+str(mirror_area))\n",
    "    \n",
    "    #bin_size_array = [bin_array[1]-bin_array[0]]\n",
    "    '''\n",
    "    i=0\n",
    "    for n in bin_array:\n",
    "        if i == len(bin_array)-1:\n",
    "            break\n",
    "        bin_size2 = bin_array[i+1] - bin_array[i]\n",
    "        bin_size_array.append(bin_size2)\n",
    "        j+=1\n",
    "    '''\n",
    "    num_photons = flux*mirror_area*exp_time*throughput*bin_size\n",
    "    print(\"num photons:\"+str(num_photons))\n",
    "    noise_std_dev = 1/(num_photons**(1/2))\n",
    "    print(\"noise std dev:\"+str(noise_std_dev))\n",
    "    \n",
    "    photon_noise_gaussian = np.random.normal(1, noise_std_dev, len(flux))\n",
    "    \n",
    "    return photon_noise_gaussian\n",
    "\n",
    "\n",
    "'''\n",
    "throughput of 0.4, swope is 1m in diameter, hole is .5m in diameter\n",
    "'''"
   ]
  },
  {
   "cell_type": "code",
   "execution_count": 249,
   "id": "2bf181b7-ee6e-4ed4-81e8-d5fdd3c8b12c",
   "metadata": {},
   "outputs": [
    {
     "name": "stdout",
     "output_type": "stream",
     "text": [
      "mirror area:0.5890486225480862\n",
      "num photons:[2.54469005e+13 2.54469005e+12 2.54469005e+11 2.54469005e+10\n",
      " 2.54469005e+09]\n",
      "noise std dev:[1.98236013e-07 6.26877315e-07 1.98236013e-06 6.26877315e-06\n",
      " 1.98236013e-05]\n"
     ]
    },
    {
     "data": {
      "text/plain": [
       "array([0.99999973, 0.99999875, 0.99999904, 1.00000298, 1.00000478])"
      ]
     },
     "execution_count": 249,
     "metadata": {},
     "output_type": "execute_result"
    }
   ],
   "source": [
    "flux_array = np.array([10**10, 10**9, 10**8, 10**7, 10**6])\n",
    "\n",
    "photon_noise(flux_array, 180)"
   ]
  },
  {
   "cell_type": "code",
   "execution_count": null,
   "id": "0b5e4ed9-e8ab-4541-8e66-f467ee9de3ce",
   "metadata": {},
   "outputs": [],
   "source": []
  },
  {
   "cell_type": "code",
   "execution_count": 246,
   "id": "f7fad375-60a4-465f-9d1c-1d0699cc754b",
   "metadata": {},
   "outputs": [
    {
     "name": "stdout",
     "output_type": "stream",
     "text": [
      "mirror area:0.5890486225480862\n",
      "num photons:[2.54469005e+13 2.54469005e+12 2.54469005e+11]\n",
      "noise std dev:[1.98236013e-07 6.26877315e-07 1.98236013e-06]\n"
     ]
    },
    {
     "data": {
      "text/plain": [
       "array([0.99999971, 0.99999972, 0.99999675])"
      ]
     },
     "execution_count": 246,
     "metadata": {},
     "output_type": "execute_result"
    }
   ],
   "source": [
    "photon_noise_nobin(flux_array,180)"
   ]
  },
  {
   "cell_type": "code",
   "execution_count": 2,
   "id": "55d529e1-900f-46f8-b071-db946e1a3d55",
   "metadata": {},
   "outputs": [
    {
     "name": "stderr",
     "output_type": "stream",
     "text": [
      "/Users/tchawla/anaconda3/lib/python3.10/site-packages/pysynphot/locations.py:345: UserWarning: Extinction files not found in /Users/tchawla/Downloads/grp/redcat/trds/extinction\n",
      "  warnings.warn('Extinction files not found in %s' % (extdir, ))\n"
     ]
    }
   ],
   "source": [
    "from pylab import *\n",
    "import expecto\n",
    "import pysynphot\n",
    "\n",
    "\n",
    "def normalize_expecto_to_magnitude(expecto_wave, expecto_flux, magnitude):\n",
    "\n",
    "    expecto_flux /= 10**8 #to ergs/s/cm^2/Ang\n",
    "    h = pysynphot.units.H # ergs * s\n",
    "    c = pysynphot.units.C #meters/second\n",
    "    c *= 10**10 #Angstroms/second\n",
    "\n",
    "    ergs_to_photons = h*c/expecto_wave\n",
    "\n",
    "    expecto_flux /= ergs_to_photons\n",
    "\n",
    "    sp = pysynphot.ArraySpectrum(expecto_wave.value, expecto_flux.value)\n",
    "    sp_norm = sp.renorm(magnitude, 'vegamag', pysynphot.ObsBandpass('2mass,j'))\n",
    "    \n",
    "\n",
    "    return sp_norm.wave, sp_norm.flux"
   ]
  },
  {
   "cell_type": "code",
   "execution_count": 3,
   "id": "df37b327-4f45-4302-bbc5-1fcf454d960c",
   "metadata": {},
   "outputs": [],
   "source": [
    "#pip install pysynphot"
   ]
  },
  {
   "cell_type": "code",
   "execution_count": 13,
   "id": "aab7f1cb-d2fd-4a39-b3e5-85b119a0d8bf",
   "metadata": {},
   "outputs": [
    {
     "data": {
      "image/png": "[encoded data removed]",
      "text/plain": [
       "<Figure size 640x480 with 1 Axes>"
      ]
     },
     "metadata": {},
     "output_type": "display_data"
    }
   ],
   "source": [
    "expecto_spectrum = get_spectrum(T_eff = 5800, log_g = 4.5, cache = False) #units are ergs/s/cm^2/cm\n",
    "\n",
    "expecto_flux = expecto_spectrum.flux\n",
    "expecto_wave = expecto_spectrum.wavelength\n",
    "\n",
    "wave, flux = normalize_expecto_to_magnitude(expecto_wave, expecto_flux, -1)\n",
    "plt.plot(wave, flux)\n",
    "#plt.yscale('log')\n",
    "plt.show()"
   ]
  },
  {
   "cell_type": "code",
   "execution_count": 14,
   "id": "1c50faa4-af8a-48ef-be0c-1874d73ca0cf",
   "metadata": {},
   "outputs": [
    {
     "data": {
      "text/plain": [
       "312.8614377572016"
      ]
     },
     "execution_count": 14,
     "metadata": {},
     "output_type": "execute_result"
    }
   ],
   "source": [
    "len(flux)\n",
    "\n",
    "flux[100000]"
   ]
  },
  {
   "cell_type": "code",
   "execution_count": 260,
   "id": "afa094e4-afc3-497e-b655-31c450d15ea0",
   "metadata": {},
   "outputs": [
    {
     "data": {
      "text/plain": [
       "'\\nfrom pylab import *\\nimport expecto\\nimport pysynphot\\n\\n\\ndef normalize_expecto_to_magnitude(expecto_wave, expecto_flux, magnitude):\\n\\n    expecto_flux /= 10**8 #to ergs/s/cm^2/Ang\\n    h = pysynphot.units.H # ergs * s\\n    c = pysynphot.units.C #meters/second\\n    c *= 10**10 #Angstroms/second\\n\\n    ergs_to_photons = h*c/expecto_wave\\n\\n    expecto_flux /= ergs_to_photons\\n\\n    sp = pysynphot.ArraySpectrum(expecto_wave.value, expecto_flux.value)\\n    sp_norm = sp.renorm(magnitude, \\'vegamag\\', pysynphot.ObsBandpass(\\'2mass,j\\'))\\n    \\n\\n    return sp_norm.wave, sp_norm.flux\\n\\n\\nif __name__ == \"__main__\":\\n\\n    expecto_spectrum = expecto.get_spectrum(T_eff = 5800, log_g = 4.5, cache = False) #units are ergs/s/cm^2/cm\\n\\n    expecto_flux = expecto_spectrum.flux\\n    expecto_wave = expecto_spectrum.wavelength\\n\\n    wave, flux = normalize_expecto_to_magnitude(expecto_wave, expecto_flux, 10)\\n    plt.plot(wave, flux)\\n    plt.yscale(\\'log\\')\\n    plt.show()\\n'"
      ]
     },
     "execution_count": 260,
     "metadata": {},
     "output_type": "execute_result"
    }
   ],
   "source": [
    "'''\n",
    "from pylab import *\n",
    "import expecto\n",
    "import pysynphot\n",
    "\n",
    "\n",
    "def normalize_expecto_to_magnitude(expecto_wave, expecto_flux, magnitude):\n",
    "\n",
    "    expecto_flux /= 10**8 #to ergs/s/cm^2/Ang\n",
    "    h = pysynphot.units.H # ergs * s\n",
    "    c = pysynphot.units.C #meters/second\n",
    "    c *= 10**10 #Angstroms/second\n",
    "\n",
    "    ergs_to_photons = h*c/expecto_wave\n",
    "\n",
    "    expecto_flux /= ergs_to_photons\n",
    "\n",
    "    sp = pysynphot.ArraySpectrum(expecto_wave.value, expecto_flux.value)\n",
    "    sp_norm = sp.renorm(magnitude, 'vegamag', pysynphot.ObsBandpass('2mass,j'))\n",
    "    \n",
    "\n",
    "    return sp_norm.wave, sp_norm.flux\n",
    "\n",
    "\n",
    "if __name__ == \"__main__\":\n",
    "\n",
    "    expecto_spectrum = expecto.get_spectrum(T_eff = 5800, log_g = 4.5, cache = False) #units are ergs/s/cm^2/cm\n",
    "\n",
    "    expecto_flux = expecto_spectrum.flux\n",
    "    expecto_wave = expecto_spectrum.wavelength\n",
    "\n",
    "    wave, flux = normalize_expecto_to_magnitude(expecto_wave, expecto_flux, 10)\n",
    "    plt.plot(wave, flux)\n",
    "    plt.yscale('log')\n",
    "    plt.show()\n",
    "'''   \n",
    "\n"
   ]
  },
  {
   "cell_type": "code",
   "execution_count": 263,
   "id": "c7b16e83-df75-47f4-bed9-75d55f81357c",
   "metadata": {},
   "outputs": [
    {
     "data": {
      "image/png": "[encoded data removed]",
      "text/plain": [
       "<Figure size 640x480 with 1 Axes>"
      ]
     },
     "metadata": {},
     "output_type": "display_data"
    }
   ],
   "source": [
    "from pylab import *\n",
    "from scipy.stats import binned_statistic\n",
    "\n",
    "def P_pwv(v, c = 1e-7):\n",
    "\n",
    "    return c * v**-2\n",
    "\n",
    "def angular_correlation(separation):\n",
    "\n",
    "    return np.exp(-0.5*(separation/45)**2)\n",
    "\n",
    "\n",
    "def power_spectrum(N, omega_max, M, timestamps, mean = 0, target = True, phase = None, separation = None):\n",
    "\n",
    "    delta_omega = omega_max / N\n",
    "    A_n = np.array([2 * np.sqrt(P_pwv(n * delta_omega + .00001) * delta_omega) for n in range(N + 1)])\n",
    "    A_n_zero = np.array([0 for n in range(N + 1, M)])\n",
    "    A_n = np.concatenate((A_n, A_n_zero))\n",
    "\n",
    "    \n",
    "    if target:\n",
    "        phi = np.random.uniform(0,2 * np.pi, M)\n",
    "        B_n = np.exp(1.0j*phi)\n",
    "        phase = B_n\n",
    "        pwv = np.real(np.fft.fft(A_n*B_n)/2)\n",
    "        \n",
    "        pwv += mean\n",
    "        pwv_delta_t = np.pi/omega_max\n",
    "        pwv_t = np.arange(0, M*pwv_delta_t, pwv_delta_t)/3600\n",
    "        binned_pwv, binned_pwv_t, _ = binned_statistic(pwv_t, pwv, bins = timestamps)\n",
    "        binned_pwv = np.insert(binned_pwv, 0, np.mean(binned_pwv))\n",
    "\n",
    "    else:\n",
    "        B_n = phase\n",
    "        phi = np.random.uniform(0, 2*np.pi, M)\n",
    "        C_n = A_n*angular_correlation(separation)\n",
    "        D_n = A_n*np.sqrt(1 - angular_correlation(separation)**2)\n",
    "        E_n = np.exp(1.0j*phi)\n",
    "        \n",
    "        pwv = np.real(np.fft.fft(C_n*B_n + D_n*E_n)/2)\n",
    "        \n",
    "        pwv += mean\n",
    "        \n",
    "        pwv_delta_t = np.pi/omega_max\n",
    "        pwv_t = np.arange(0, M*pwv_delta_t, pwv_delta_t)/3600\n",
    "        binned_pwv, binned_pwv_t, _ = binned_statistic(pwv_t, pwv, bins = timestamps)\n",
    "        binned_pwv = np.insert(binned_pwv, 0, np.mean(binned_pwv))\n",
    "\n",
    "\n",
    "    return binned_pwv_t, binned_pwv, phase, mean\n",
    "\n",
    "if __name__ == \"__main__\":\n",
    "\n",
    "    timestamps = np.linspace(0,10,1000) #time in hours\n",
    "    t, target_star_pwv, target_star_phase, target_star_mean = power_spectrum(12000, 1, 24000, timestamps, mean = 2)\n",
    "    t1, comparison_star_pwv, _, _ = power_spectrum(12000, 1, 24000, timestamps, mean = target_star_mean, target = False, phase = target_star_phase, separation = 25)\n",
    "\n",
    "    plt.plot(t, target_star_pwv)\n",
    "    plt.plot(t, comparison_star_pwv)\n",
    "    plt.show()\n"
   ]
  },
  {
   "cell_type": "code",
   "execution_count": 268,
   "id": "d71c2f23-6338-4869-bca9-28682636bea9",
   "metadata": {},
   "outputs": [
    {
     "ename": "ValueError",
     "evalue": "There are 2 point arrays, but values has 1 dimensions",
     "output_type": "error",
     "traceback": [
      "\u001b[0;31m---------------------------------------------------------------------------\u001b[0m",
      "\u001b[0;31mValueError\u001b[0m                                Traceback (most recent call last)",
      "Cell \u001b[0;32mIn[268], line 4\u001b[0m\n\u001b[1;32m      1\u001b[0m pwv \u001b[38;5;241m=\u001b[39m np\u001b[38;5;241m.\u001b[39mload(\u001b[38;5;124m\"\u001b[39m\u001b[38;5;124mpwv_target.npy\u001b[39m\u001b[38;5;124m\"\u001b[39m)\n\u001b[1;32m      3\u001b[0m \u001b[38;5;66;03m#diff_spec2 = diff_spec(4000, 6000, target_star_pwv, comparison_star_pwv, 1.8, 1.95)\u001b[39;00m\n\u001b[0;32m----> 4\u001b[0m diff_spec_initial \u001b[38;5;241m=\u001b[39m \u001b[43mdiff_spec\u001b[49m\u001b[43m(\u001b[49m\u001b[38;5;241;43m4000\u001b[39;49m\u001b[43m,\u001b[49m\u001b[43m \u001b[49m\u001b[38;5;241;43m6000\u001b[39;49m\u001b[43m,\u001b[49m\u001b[43m \u001b[49m\u001b[43mpwv\u001b[49m\u001b[43m,\u001b[49m\u001b[43m \u001b[49m\u001b[43mpwv\u001b[49m\u001b[43m,\u001b[49m\u001b[43m \u001b[49m\u001b[38;5;241;43m1.8\u001b[39;49m\u001b[43m,\u001b[49m\u001b[43m \u001b[49m\u001b[38;5;241;43m1.95\u001b[39;49m\u001b[43m)\u001b[49m\n",
      "File \u001b[0;32m/var/folders/h_/vkbcrvtd39b6btnqzmk30tqm0000gr/T/ipykernel_6479/1215133036.py:4\u001b[0m, in \u001b[0;36mdiff_spec\u001b[0;34m(target_temp, ref_temp, target_pwv, ref_pwv, wave_in, wave_out, res, exp_time, throughput)\u001b[0m\n\u001b[1;32m      2\u001b[0m target_spec \u001b[38;5;241m=\u001b[39m spectrum(target_temp)\n\u001b[1;32m      3\u001b[0m ref_spec \u001b[38;5;241m=\u001b[39m spectrum(ref_temp)\n\u001b[0;32m----> 4\u001b[0m target_binned \u001b[38;5;241m=\u001b[39m \u001b[43mbinned_flux_pwv\u001b[49m\u001b[43m(\u001b[49m\u001b[43mtarget_spec\u001b[49m\u001b[43m,\u001b[49m\u001b[43m \u001b[49m\u001b[43mwave_in\u001b[49m\u001b[43m,\u001b[49m\u001b[43m \u001b[49m\u001b[43mwave_out\u001b[49m\u001b[43m,\u001b[49m\u001b[43m \u001b[49m\u001b[43mres\u001b[49m\u001b[43m)\u001b[49m\n\u001b[1;32m      5\u001b[0m ref_binned \u001b[38;5;241m=\u001b[39m binned_flux_pwv(ref_spec, wave_in, wave_out, res)\n\u001b[1;32m      6\u001b[0m target_stacked \u001b[38;5;241m=\u001b[39m stacking(target_binned)\n",
      "File \u001b[0;32m/var/folders/h_/vkbcrvtd39b6btnqzmk30tqm0000gr/T/ipykernel_6479/1431154603.py:20\u001b[0m, in \u001b[0;36mbinned_flux_pwv\u001b[0;34m(spectrum, wave_in, wave_out, res)\u001b[0m\n\u001b[1;32m     18\u001b[0m value \u001b[38;5;241m=\u001b[39m stellar_wave[i]\u001b[38;5;241m/\u001b[39m\u001b[38;5;241m10\u001b[39m\n\u001b[1;32m     19\u001b[0m stellar_flux_value \u001b[38;5;241m=\u001b[39m stellar_flux[i]\n\u001b[0;32m---> 20\u001b[0m transmission  \u001b[38;5;241m=\u001b[39m \u001b[43minterpolate_water\u001b[49m\u001b[43m(\u001b[49m\u001b[43mpwv\u001b[49m\u001b[43m,\u001b[49m\u001b[43m \u001b[49m\u001b[43mvalue\u001b[49m\u001b[43m)\u001b[49m\n\u001b[1;32m     21\u001b[0m flux \u001b[38;5;241m=\u001b[39m stellar_flux_value\u001b[38;5;241m*\u001b[39mtransmission\n\u001b[1;32m     22\u001b[0m d[str_value\u001b[38;5;241m+\u001b[39m\u001b[38;5;124m\"\u001b[39m\u001b[38;5;124m_trans_array\u001b[39m\u001b[38;5;124m\"\u001b[39m] \u001b[38;5;241m=\u001b[39m np\u001b[38;5;241m.\u001b[39marray(flux)\n",
      "File \u001b[0;32m/var/folders/h_/vkbcrvtd39b6btnqzmk30tqm0000gr/T/ipykernel_6479/2424000988.py:15\u001b[0m, in \u001b[0;36minterpolate_water\u001b[0;34m(water_content, wavelength)\u001b[0m\n\u001b[1;32m     13\u001b[0m wavelength \u001b[38;5;241m=\u001b[39m [wavelength]\n\u001b[1;32m     14\u001b[0m wave_array \u001b[38;5;241m=\u001b[39m np\u001b[38;5;241m.\u001b[39marray(d[\u001b[38;5;124m\"\u001b[39m\u001b[38;5;124mdata1.0_pd\u001b[39m\u001b[38;5;124m\"\u001b[39m][\u001b[38;5;124m\"\u001b[39m\u001b[38;5;124mcol1\u001b[39m\u001b[38;5;124m\"\u001b[39m])\n\u001b[0;32m---> 15\u001b[0m interp \u001b[38;5;241m=\u001b[39m \u001b[43mrgi\u001b[49m\u001b[43m(\u001b[49m\u001b[43m(\u001b[49m\u001b[43mwater_array\u001b[49m\u001b[43m,\u001b[49m\u001b[43m \u001b[49m\u001b[43mwave_array\u001b[49m\u001b[43m)\u001b[49m\u001b[43m,\u001b[49m\u001b[43m \u001b[49m\u001b[43mflux_array\u001b[49m\u001b[43m)\u001b[49m\n\u001b[1;32m     16\u001b[0m result \u001b[38;5;241m=\u001b[39m \u001b[38;5;28mlist\u001b[39m(product(water_content, wavelength))\n\u001b[1;32m     17\u001b[0m \u001b[38;5;66;03m#print(result)\u001b[39;00m\n",
      "File \u001b[0;32m~/anaconda3/lib/python3.10/site-packages/scipy/interpolate/_rgi.py:241\u001b[0m, in \u001b[0;36mRegularGridInterpolator.__init__\u001b[0;34m(self, points, values, method, bounds_error, fill_value)\u001b[0m\n\u001b[1;32m    239\u001b[0m \u001b[38;5;28mself\u001b[39m\u001b[38;5;241m.\u001b[39mgrid, \u001b[38;5;28mself\u001b[39m\u001b[38;5;241m.\u001b[39m_descending_dimensions \u001b[38;5;241m=\u001b[39m _check_points(points)\n\u001b[1;32m    240\u001b[0m \u001b[38;5;28mself\u001b[39m\u001b[38;5;241m.\u001b[39mvalues \u001b[38;5;241m=\u001b[39m \u001b[38;5;28mself\u001b[39m\u001b[38;5;241m.\u001b[39m_check_values(values)\n\u001b[0;32m--> 241\u001b[0m \u001b[38;5;28;43mself\u001b[39;49m\u001b[38;5;241;43m.\u001b[39;49m\u001b[43m_check_dimensionality\u001b[49m\u001b[43m(\u001b[49m\u001b[38;5;28;43mself\u001b[39;49m\u001b[38;5;241;43m.\u001b[39;49m\u001b[43mgrid\u001b[49m\u001b[43m,\u001b[49m\u001b[43m \u001b[49m\u001b[38;5;28;43mself\u001b[39;49m\u001b[38;5;241;43m.\u001b[39;49m\u001b[43mvalues\u001b[49m\u001b[43m)\u001b[49m\n\u001b[1;32m    242\u001b[0m \u001b[38;5;28mself\u001b[39m\u001b[38;5;241m.\u001b[39mfill_value \u001b[38;5;241m=\u001b[39m \u001b[38;5;28mself\u001b[39m\u001b[38;5;241m.\u001b[39m_check_fill_value(\u001b[38;5;28mself\u001b[39m\u001b[38;5;241m.\u001b[39mvalues, fill_value)\n\u001b[1;32m    243\u001b[0m \u001b[38;5;28;01mif\u001b[39;00m \u001b[38;5;28mself\u001b[39m\u001b[38;5;241m.\u001b[39m_descending_dimensions:\n",
      "File \u001b[0;32m~/anaconda3/lib/python3.10/site-packages/scipy/interpolate/_rgi.py:247\u001b[0m, in \u001b[0;36mRegularGridInterpolator._check_dimensionality\u001b[0;34m(self, grid, values)\u001b[0m\n\u001b[1;32m    246\u001b[0m \u001b[38;5;28;01mdef\u001b[39;00m \u001b[38;5;21m_check_dimensionality\u001b[39m(\u001b[38;5;28mself\u001b[39m, grid, values):\n\u001b[0;32m--> 247\u001b[0m     \u001b[43m_check_dimensionality\u001b[49m\u001b[43m(\u001b[49m\u001b[43mgrid\u001b[49m\u001b[43m,\u001b[49m\u001b[43m \u001b[49m\u001b[43mvalues\u001b[49m\u001b[43m)\u001b[49m\n",
      "File \u001b[0;32m~/anaconda3/lib/python3.10/site-packages/scipy/interpolate/_rgi.py:37\u001b[0m, in \u001b[0;36m_check_dimensionality\u001b[0;34m(points, values)\u001b[0m\n\u001b[1;32m     35\u001b[0m \u001b[38;5;28;01mdef\u001b[39;00m \u001b[38;5;21m_check_dimensionality\u001b[39m(points, values):\n\u001b[1;32m     36\u001b[0m     \u001b[38;5;28;01mif\u001b[39;00m \u001b[38;5;28mlen\u001b[39m(points) \u001b[38;5;241m>\u001b[39m values\u001b[38;5;241m.\u001b[39mndim:\n\u001b[0;32m---> 37\u001b[0m         \u001b[38;5;28;01mraise\u001b[39;00m \u001b[38;5;167;01mValueError\u001b[39;00m(\u001b[38;5;124m\"\u001b[39m\u001b[38;5;124mThere are \u001b[39m\u001b[38;5;132;01m%d\u001b[39;00m\u001b[38;5;124m point arrays, but values has \u001b[39m\u001b[38;5;132;01m%d\u001b[39;00m\u001b[38;5;124m \u001b[39m\u001b[38;5;124m\"\u001b[39m\n\u001b[1;32m     38\u001b[0m                          \u001b[38;5;124m\"\u001b[39m\u001b[38;5;124mdimensions\u001b[39m\u001b[38;5;124m\"\u001b[39m \u001b[38;5;241m%\u001b[39m (\u001b[38;5;28mlen\u001b[39m(points), values\u001b[38;5;241m.\u001b[39mndim))\n\u001b[1;32m     39\u001b[0m     \u001b[38;5;28;01mfor\u001b[39;00m i, p \u001b[38;5;129;01min\u001b[39;00m \u001b[38;5;28menumerate\u001b[39m(points):\n\u001b[1;32m     40\u001b[0m         \u001b[38;5;28;01mif\u001b[39;00m \u001b[38;5;129;01mnot\u001b[39;00m np\u001b[38;5;241m.\u001b[39masarray(p)\u001b[38;5;241m.\u001b[39mndim \u001b[38;5;241m==\u001b[39m \u001b[38;5;241m1\u001b[39m:\n",
      "\u001b[0;31mValueError\u001b[0m: There are 2 point arrays, but values has 1 dimensions"
     ]
    }
   ],
   "source": [
    "pwv = np.load(\"pwv_target.npy\")\n",
    "\n",
    "#diff_spec2 = diff_spec(4000, 6000, target_star_pwv, comparison_star_pwv, 1.8, 1.95)\n",
    "diff_spec_initial = diff_spec(4000, 6000, pwv, pwv, 1.8, 1.95)"
   ]
  },
  {
   "cell_type": "code",
   "execution_count": null,
   "id": "853709f0-0102-4c62-ba22-17d038f975ec",
   "metadata": {},
   "outputs": [],
   "source": [
    "target"
   ]
  }
 ],
 "metadata": {
  "kernelspec": {
   "display_name": "Python 3 (ipykernel)",
   "language": "python",
   "name": "python3"
  },
  "language_info": {
   "codemirror_mode": {
    "name": "ipython",
    "version": 3
   },
   "file_extension": ".py",
   "mimetype": "text/x-python",
   "name": "python",
   "nbconvert_exporter": "python",
   "pygments_lexer": "ipython3",
   "version": "3.10.9"
  }
 },
 "nbformat": 4,
 "nbformat_minor": 5
}
