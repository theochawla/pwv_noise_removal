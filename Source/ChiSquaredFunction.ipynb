{
 "cells": [
  {
   "cell_type": "code",
   "execution_count": 10,
   "id": "6ff38d3b-5b7a-402c-a1b7-a263bbf06a86",
   "metadata": {},
   "outputs": [],
   "source": [
    "def chi_squared(obs, exp):\n",
    "    i=0\n",
    "    diff_array = []\n",
    "    for n in obs:\n",
    "        diff = obs[i] - exp[i]\n",
    "        diff_squared = diff**2\n",
    "        value = diff_squared/exp[i]\n",
    "        diff_array.append(value)\n",
    "        i+=1\n",
    "    stat = np.sum(diff_array)\n",
    "    return stat"
   ]
  },
  {
   "cell_type": "code",
   "execution_count": 16,
   "id": "c0e30004-ecd6-43c0-bbeb-25a37f9a4cee",
   "metadata": {},
   "outputs": [],
   "source": [
    "import numpy as np\n",
    "\n",
    "test_obs = np.array([1, 2, 3, 4, 5, 6, 7, 8, 9])\n",
    "test_exp = np.array([1, 3, 4, 5, 6, 7, 8, 9, 10])"
   ]
  },
  {
   "cell_type": "code",
   "execution_count": 12,
   "id": "864c1e27-e6d0-4c95-9838-6b7bc578fab2",
   "metadata": {},
   "outputs": [
    {
     "data": {
      "text/plain": [
       "1.4289682539682542"
      ]
     },
     "execution_count": 12,
     "metadata": {},
     "output_type": "execute_result"
    }
   ],
   "source": [
    "chi_squared(test_obs, test_exp)"
   ]
  },
  {
   "cell_type": "code",
   "execution_count": 17,
   "id": "44568fb7-bce6-4723-a944-7b22439532aa",
   "metadata": {},
   "outputs": [],
   "source": [
    "def chi_squared_array(obs, exp):\n",
    "    diff_array = (obs-exp)**2\n",
    "    ind_values = diff_array/exp\n",
    "    stat = np.sum(ind_values)\n",
    "    return stat\n",
    "    "
   ]
  },
  {
   "cell_type": "code",
   "execution_count": 18,
   "id": "8990729e-910a-4167-99b8-6ba6cded7652",
   "metadata": {},
   "outputs": [
    {
     "data": {
      "text/plain": [
       "1.4289682539682542"
      ]
     },
     "execution_count": 18,
     "metadata": {},
     "output_type": "execute_result"
    }
   ],
   "source": [
    "chi_squared_array(test_obs, test_exp)"
   ]
  },
  {
   "cell_type": "code",
   "execution_count": null,
   "id": "55ae09be-8e9d-4456-afb1-3e3aeae7cc55",
   "metadata": {},
   "outputs": [],
   "source": []
  }
 ],
 "metadata": {
  "kernelspec": {
   "display_name": "Python 3",
   "language": "python",
   "name": "python3"
  },
  "language_info": {
   "codemirror_mode": {
    "name": "ipython",
    "version": 3
   },
   "file_extension": ".py",
   "mimetype": "text/x-python",
   "name": "python",
   "nbconvert_exporter": "python",
   "pygments_lexer": "ipython3",
   "version": "3.8.8"
  }
 },
 "nbformat": 4,
 "nbformat_minor": 5
}
