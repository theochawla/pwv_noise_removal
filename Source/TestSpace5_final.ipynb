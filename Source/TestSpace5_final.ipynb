{
 "cells": [
  {
   "cell_type": "code",
   "execution_count": 1,
   "id": "ca11d7c3-12fd-4ecc-9f66-2d802cdf5a49",
   "metadata": {},
   "outputs": [
    {
     "ename": "Exception",
     "evalue": "File `'Interpolate_final.ipynb'` not found.",
     "output_type": "error",
     "traceback": [
      "\u001b[0;31m---------------------------------------------------------------------------\u001b[0m",
      "\u001b[0;31mOSError\u001b[0m                                   Traceback (most recent call last)",
      "File \u001b[0;32m~/anaconda3/lib/python3.10/site-packages/IPython/core/magics/execution.py:697\u001b[0m, in \u001b[0;36mExecutionMagics.run\u001b[0;34m(self, parameter_s, runner, file_finder)\u001b[0m\n\u001b[1;32m    696\u001b[0m     fpath \u001b[38;5;241m=\u001b[39m arg_lst[\u001b[38;5;241m0\u001b[39m]\n\u001b[0;32m--> 697\u001b[0m     filename \u001b[38;5;241m=\u001b[39m \u001b[43mfile_finder\u001b[49m\u001b[43m(\u001b[49m\u001b[43mfpath\u001b[49m\u001b[43m)\u001b[49m\n\u001b[1;32m    698\u001b[0m \u001b[38;5;28;01mexcept\u001b[39;00m \u001b[38;5;167;01mIndexError\u001b[39;00m \u001b[38;5;28;01mas\u001b[39;00m e:\n",
      "File \u001b[0;32m~/anaconda3/lib/python3.10/site-packages/IPython/utils/path.py:90\u001b[0m, in \u001b[0;36mget_py_filename\u001b[0;34m(name)\u001b[0m\n\u001b[1;32m     89\u001b[0m         \u001b[38;5;28;01mreturn\u001b[39;00m py_name\n\u001b[0;32m---> 90\u001b[0m \u001b[38;5;28;01mraise\u001b[39;00m \u001b[38;5;167;01mIOError\u001b[39;00m(\u001b[38;5;124m\"\u001b[39m\u001b[38;5;124mFile `\u001b[39m\u001b[38;5;132;01m%r\u001b[39;00m\u001b[38;5;124m` not found.\u001b[39m\u001b[38;5;124m\"\u001b[39m \u001b[38;5;241m%\u001b[39m name)\n",
      "\u001b[0;31mOSError\u001b[0m: File `'Interpolate_final.ipynb'` not found.",
      "\nThe above exception was the direct cause of the following exception:\n",
      "\u001b[0;31mException\u001b[0m                                 Traceback (most recent call last)",
      "Cell \u001b[0;32mIn[1], line 13\u001b[0m\n\u001b[1;32m     11\u001b[0m \u001b[38;5;28;01mfrom\u001b[39;00m \u001b[38;5;21;01mscipy\u001b[39;00m\u001b[38;5;21;01m.\u001b[39;00m\u001b[38;5;21;01minterpolate\u001b[39;00m \u001b[38;5;28;01mimport\u001b[39;00m RegularGridInterpolator \u001b[38;5;28;01mas\u001b[39;00m rgi\n\u001b[1;32m     12\u001b[0m \u001b[38;5;28;01mfrom\u001b[39;00m \u001b[38;5;21;01mitertools\u001b[39;00m \u001b[38;5;28;01mimport\u001b[39;00m product\n\u001b[0;32m---> 13\u001b[0m \u001b[43mget_ipython\u001b[49m\u001b[43m(\u001b[49m\u001b[43m)\u001b[49m\u001b[38;5;241;43m.\u001b[39;49m\u001b[43mrun_line_magic\u001b[49m\u001b[43m(\u001b[49m\u001b[38;5;124;43m'\u001b[39;49m\u001b[38;5;124;43mrun\u001b[39;49m\u001b[38;5;124;43m'\u001b[39;49m\u001b[43m,\u001b[49m\u001b[43m \u001b[49m\u001b[38;5;124;43m'\u001b[39;49m\u001b[38;5;124;43mInterpolate_final.ipynb\u001b[39;49m\u001b[38;5;124;43m'\u001b[39;49m\u001b[43m)\u001b[49m\n\u001b[1;32m     14\u001b[0m get_ipython()\u001b[38;5;241m.\u001b[39mrun_line_magic(\u001b[38;5;124m'\u001b[39m\u001b[38;5;124mrun\u001b[39m\u001b[38;5;124m'\u001b[39m, \u001b[38;5;124m'\u001b[39m\u001b[38;5;124mGetSpectra_final.ipynb\u001b[39m\u001b[38;5;124m'\u001b[39m)\n\u001b[1;32m     15\u001b[0m get_ipython()\u001b[38;5;241m.\u001b[39mrun_line_magic(\u001b[38;5;124m'\u001b[39m\u001b[38;5;124mrun\u001b[39m\u001b[38;5;124m'\u001b[39m, \u001b[38;5;124m'\u001b[39m\u001b[38;5;124mBinning_final.ipynb\u001b[39m\u001b[38;5;124m'\u001b[39m)\n",
      "File \u001b[0;32m~/anaconda3/lib/python3.10/site-packages/IPython/core/interactiveshell.py:2369\u001b[0m, in \u001b[0;36mInteractiveShell.run_line_magic\u001b[0;34m(self, magic_name, line, _stack_depth)\u001b[0m\n\u001b[1;32m   2367\u001b[0m     kwargs[\u001b[38;5;124m'\u001b[39m\u001b[38;5;124mlocal_ns\u001b[39m\u001b[38;5;124m'\u001b[39m] \u001b[38;5;241m=\u001b[39m \u001b[38;5;28mself\u001b[39m\u001b[38;5;241m.\u001b[39mget_local_scope(stack_depth)\n\u001b[1;32m   2368\u001b[0m \u001b[38;5;28;01mwith\u001b[39;00m \u001b[38;5;28mself\u001b[39m\u001b[38;5;241m.\u001b[39mbuiltin_trap:\n\u001b[0;32m-> 2369\u001b[0m     result \u001b[38;5;241m=\u001b[39m \u001b[43mfn\u001b[49m\u001b[43m(\u001b[49m\u001b[38;5;241;43m*\u001b[39;49m\u001b[43margs\u001b[49m\u001b[43m,\u001b[49m\u001b[43m \u001b[49m\u001b[38;5;241;43m*\u001b[39;49m\u001b[38;5;241;43m*\u001b[39;49m\u001b[43mkwargs\u001b[49m\u001b[43m)\u001b[49m\n\u001b[1;32m   2371\u001b[0m \u001b[38;5;66;03m# The code below prevents the output from being displayed\u001b[39;00m\n\u001b[1;32m   2372\u001b[0m \u001b[38;5;66;03m# when using magics with decodator @output_can_be_silenced\u001b[39;00m\n\u001b[1;32m   2373\u001b[0m \u001b[38;5;66;03m# when the last Python token in the expression is a ';'.\u001b[39;00m\n\u001b[1;32m   2374\u001b[0m \u001b[38;5;28;01mif\u001b[39;00m \u001b[38;5;28mgetattr\u001b[39m(fn, magic\u001b[38;5;241m.\u001b[39mMAGIC_OUTPUT_CAN_BE_SILENCED, \u001b[38;5;28;01mFalse\u001b[39;00m):\n",
      "File \u001b[0;32m~/anaconda3/lib/python3.10/site-packages/IPython/core/magics/execution.py:708\u001b[0m, in \u001b[0;36mExecutionMagics.run\u001b[0;34m(self, parameter_s, runner, file_finder)\u001b[0m\n\u001b[1;32m    706\u001b[0m     \u001b[38;5;28;01mif\u001b[39;00m os\u001b[38;5;241m.\u001b[39mname \u001b[38;5;241m==\u001b[39m \u001b[38;5;124m'\u001b[39m\u001b[38;5;124mnt\u001b[39m\u001b[38;5;124m'\u001b[39m \u001b[38;5;129;01mand\u001b[39;00m re\u001b[38;5;241m.\u001b[39mmatch(\u001b[38;5;124mr\u001b[39m\u001b[38;5;124m\"\u001b[39m\u001b[38;5;124m^\u001b[39m\u001b[38;5;124m'\u001b[39m\u001b[38;5;124m.*\u001b[39m\u001b[38;5;124m'\u001b[39m\u001b[38;5;124m$\u001b[39m\u001b[38;5;124m\"\u001b[39m,fpath):\n\u001b[1;32m    707\u001b[0m         warn(\u001b[38;5;124m'\u001b[39m\u001b[38;5;124mFor Windows, use double quotes to wrap a filename: \u001b[39m\u001b[38;5;132;01m%r\u001b[39;00m\u001b[38;5;124mun \u001b[39m\u001b[38;5;124m\"\u001b[39m\u001b[38;5;124mmypath\u001b[39m\u001b[38;5;130;01m\\\\\u001b[39;00m\u001b[38;5;124mmyfile.py\u001b[39m\u001b[38;5;124m\"\u001b[39m\u001b[38;5;124m'\u001b[39m)\n\u001b[0;32m--> 708\u001b[0m     \u001b[38;5;28;01mraise\u001b[39;00m \u001b[38;5;167;01mException\u001b[39;00m(msg) \u001b[38;5;28;01mfrom\u001b[39;00m \u001b[38;5;21;01me\u001b[39;00m\n\u001b[1;32m    709\u001b[0m \u001b[38;5;28;01mexcept\u001b[39;00m \u001b[38;5;167;01mTypeError\u001b[39;00m:\n\u001b[1;32m    710\u001b[0m     \u001b[38;5;28;01mif\u001b[39;00m fpath \u001b[38;5;129;01min\u001b[39;00m sys\u001b[38;5;241m.\u001b[39mmeta_path:\n",
      "\u001b[0;31mException\u001b[0m: File `'Interpolate_final.ipynb'` not found."
     ]
    }
   ],
   "source": [
    "#import os\n",
    "#os.environ['PYSYN_CDBS'] = \"C:/Users/tchawla/research/HST_data/grp/redcat/trds\"\n",
    "#env_var = os.environ['PYSYN_CDBS']\n",
    "#env_var\n",
    "import numpy as np\n",
    "from astropy.io import ascii\n",
    "from pylab import *\n",
    "from astropy.table import Table, vstack\n",
    "import pandas as pd\n",
    "from expecto import get_spectrum\n",
    "from scipy.interpolate import RegularGridInterpolator as rgi\n",
    "from itertools import product\n",
    "%run Interpolate_final.ipynb\n",
    "%run GetSpectra_final.ipynb\n",
    "%run Binning_final.ipynb\n",
    "%run AddNoise_final.ipynb\n",
    "#%set_env PYSYN_CDBS = C:/Users/tchawla/research/HST_data/grp/redcat/trds"
   ]
  },
  {
   "cell_type": "code",
   "execution_count": null,
   "id": "6488dd36-353c-4eda-bacb-db1206649c8e",
   "metadata": {},
   "outputs": [],
   "source": [
    "#env_var"
   ]
  },
  {
   "cell_type": "code",
   "execution_count": null,
   "id": "dc2e1de9-b67e-4865-94c2-e9d7ce719a54",
   "metadata": {},
   "outputs": [],
   "source": [
    "#PYSYN_CDBS"
   ]
  },
  {
   "cell_type": "code",
   "execution_count": null,
   "id": "c60e36cc-a79f-49cb-b5cf-d18c48e01640",
   "metadata": {},
   "outputs": [],
   "source": [
    "water_array = [1.0, 1.5, 2.5, 3.5, 5.0]\n",
    "\n",
    "'''\n",
    "reads in .dat files. col1 is wavelength, col2 is transmission. Files are labeled with water content level in mm \n",
    "water content levels are listed in the array above. resolution is 200,000.\n",
    "'''\n",
    "\n",
    "d = {}\n",
    "i=0\n",
    "for n in water_array:\n",
    "    water_content = str(water_array[i])\n",
    "    d[\"data\"+water_content] = ascii.read(\"transmission{0}_hi_res.dat\".format(water_content))\n",
    "    d[\"data\"+water_content+\"_pd\"] = d[\"data\"+water_content].to_pandas()\n",
    "    #print(d[\"data\"+water_content+\"_pd\"])\n",
    "    i+=1"
   ]
  },
  {
   "cell_type": "code",
   "execution_count": null,
   "id": "36819442-76d6-4353-b3d9-1751b02373db",
   "metadata": {},
   "outputs": [],
   "source": [
    "'''\n",
    "for loop creates transmission values in shape necessary for interpolation function\n",
    "'''\n",
    "water_array = [1.0, 1.5, 2.5, 3.5, 5.0]\n",
    "\n",
    "flux_array = []\n",
    "i=0\n",
    "for n in water_array:\n",
    "    water_array_i = str(water_array[i])\n",
    "    d[\"flux\"+water_array_i] = np.array(d[\"data\"+water_array_i+\"_pd\"][\"col2\"])\n",
    "    flux_array.append(d[\"flux\"+water_array_i])\n",
    "    i+=1"
   ]
  },
  {
   "cell_type": "code",
   "execution_count": null,
   "id": "fadd2333-db0a-43b1-ab60-35e4f9f7125d",
   "metadata": {},
   "outputs": [],
   "source": [
    "pwv = np.load(\"pwv_target.npy\")"
   ]
  },
  {
   "cell_type": "code",
   "execution_count": null,
   "id": "75147f2a-97e5-4e80-8b12-269e866d472d",
   "metadata": {},
   "outputs": [],
   "source": []
  },
  {
   "cell_type": "code",
   "execution_count": null,
   "id": "7e9e1dfa-1edc-4e32-b0f8-f58d2daead84",
   "metadata": {},
   "outputs": [],
   "source": [
    "spectrum_test10 = spectrum(4000, 10)\n",
    "spectrum_test5 = spectrum(4000, 5)\n",
    "spectrum_test1 = spectrum(4000, -1)"
   ]
  },
  {
   "cell_type": "code",
   "execution_count": null,
   "id": "3d06c8d5-417c-4a2e-8500-95d45cde5fde",
   "metadata": {},
   "outputs": [],
   "source": [
    "spectrum_test10_hot = spectrum(7000, 10)\n",
    "spectrum_test5_hot = spectrum(7000, 5)\n",
    "spectrum_test1_hot = spectrum(7000, -1)"
   ]
  },
  {
   "cell_type": "code",
   "execution_count": null,
   "id": "04c4bc38-6584-480c-9fb4-b5aa4ad63d5f",
   "metadata": {},
   "outputs": [],
   "source": [
    "print(np.max(spectrum_test10[1]))\n",
    "print(np.max(spectrum_test5[1]))\n",
    "print(np.max(spectrum_test1[1]))"
   ]
  },
  {
   "cell_type": "code",
   "execution_count": null,
   "id": "b3bc293c-397f-40b1-9e43-65ef050771c4",
   "metadata": {},
   "outputs": [],
   "source": [
    "plt.plot(spectrum_test10[0], spectrum_test10[1])"
   ]
  },
  {
   "cell_type": "code",
   "execution_count": null,
   "id": "5627185c-05e5-4a35-92a6-0966ee99afa8",
   "metadata": {},
   "outputs": [],
   "source": [
    "print(np.max(spectrum_test10_hot[1]))\n",
    "print(np.max(spectrum_test5_hot[1]))\n",
    "print(np.max(spectrum_test1_hot[1]))"
   ]
  },
  {
   "cell_type": "code",
   "execution_count": null,
   "id": "f0084b17-bdd4-40b0-869d-4eda222e3e20",
   "metadata": {},
   "outputs": [],
   "source": [
    "plt.plot(spectrum_test10_hot[0], spectrum_test10_hot[1])"
   ]
  },
  {
   "cell_type": "code",
   "execution_count": null,
   "id": "78189567-14bf-4435-a8e4-9f869543a113",
   "metadata": {},
   "outputs": [],
   "source": [
    "print(len(spectrum_test[0]))\n",
    "print(len(spectrum_test[1]))"
   ]
  },
  {
   "cell_type": "code",
   "execution_count": null,
   "id": "c679a654-e989-468e-8577-a8bea683be72",
   "metadata": {},
   "outputs": [],
   "source": [
    "spec_range = spec_wave_range(spectrum_test, 1.8, 1.95)\n",
    "spec_range"
   ]
  },
  {
   "cell_type": "code",
   "execution_count": null,
   "id": "d82fe0b3-9e33-4bf9-8e07-cd6685eeccf4",
   "metadata": {},
   "outputs": [],
   "source": [
    "flux_norm = diff_spec_v2(4000, 6000, pwv, pwv, 1.8, 1.95, 8, 9)"
   ]
  },
  {
   "cell_type": "code",
   "execution_count": null,
   "id": "b1a596a9-5321-4e7f-ba4a-fd3d0da78bf4",
   "metadata": {},
   "outputs": [],
   "source": [
    "plt.plot(flux_norm[0]*10**6)"
   ]
  },
  {
   "cell_type": "code",
   "execution_count": null,
   "id": "060826f8-899e-4f2b-8e8d-4945183e12c4",
   "metadata": {},
   "outputs": [],
   "source": [
    "timestamps = np.linspace(0,10,1000) #time in hours\n",
    "t, target_star_pwv, target_star_phase, target_star_mean = power_spectrum(12000, 1, 24000, timestamps, mean = 2)\n",
    "t1, comparison_star_pwv, _, _ = power_spectrum(12000, 1, 24000, timestamps, mean = target_star_mean, target = False, phase = target_star_phase, separation = 5)\n",
    "\n",
    "plt.plot(t, target_star_pwv)\n",
    "plt.plot(t, comparison_star_pwv)\n",
    "plt.show()\n"
   ]
  },
  {
   "cell_type": "code",
   "execution_count": null,
   "id": "3cfb64d3-6c36-47a2-a875-0b71213b9129",
   "metadata": {},
   "outputs": [],
   "source": [
    "flux_norm = diff_spec_v2(4000, 6000, target_star_pwv, comparison_star_pwv, 1.8, 1.95, 5, 6)"
   ]
  },
  {
   "cell_type": "code",
   "execution_count": null,
   "id": "999cf09a-bd15-40d8-bcf4-ff3fdec1cf25",
   "metadata": {},
   "outputs": [],
   "source": [
    "plt.plot(flux_norm[0]*10**6)\n",
    "\n",
    "plt.title(\"Time Series at 1.8 microns\")\n",
    "plt.ylabel(\"Change in flux, ppm\")\n",
    "plt.xlabel(\"time\")"
   ]
  },
  {
   "cell_type": "code",
   "execution_count": null,
   "id": "b9051016-f2d2-4a1a-a0c0-ae3ae2fe56e2",
   "metadata": {},
   "outputs": [],
   "source": [
    "def photon_noise(flux, bin_size, mirror_diameter = 1, exp_time = 60, throughput = .4):\n",
    "    \n",
    "    mirror_area = np.pi*((mirror_diameter/2)**2) - np.pi*((.25)**2)\n",
    "    #print(\"mirror area:\"+str(mirror_area))\n",
    "    \n",
    "    #bin_size_array = [bin_array[1]-bin_array[0]]\n",
    "    '''\n",
    "    i=0\n",
    "    for n in bin_array:\n",
    "        if i == len(bin_array)-1:\n",
    "            break\n",
    "        bin_size2 = bin_array[i+1] - bin_array[i]\n",
    "        bin_size_array.append(bin_size2)\n",
    "        j+=1\n",
    "    '''\n",
    "    num_photons = flux*mirror_area*exp_time*throughput*bin_size\n",
    "    print(\"num photons:\"+str(num_photons))\n",
    "    noise_std_dev = 1/(num_photons**(1/2))\n",
    "    print(\"noise std dev:\"+str(noise_std_dev))\n",
    "    \n",
    "    photon_noise_gaussian = np.random.normal(1, noise_std_dev, len(flux))\n",
    "    \n",
    "    return photon_noise_gaussian"
   ]
  },
  {
   "cell_type": "code",
   "execution_count": null,
   "id": "2d5c0b34-7e8c-4014-a0a7-0579c7b2d1c6",
   "metadata": {},
   "outputs": [],
   "source": [
    "flux_array_adjusted = np.array([500*10**4, 2*10**4, .2*10**4])\n",
    "flux_array = np.array([500, 2, .2])\n",
    "photon_noise(flux_array, 180)\n"
   ]
  },
  {
   "cell_type": "code",
   "execution_count": null,
   "id": "f8841450-e51f-46fb-a5d3-7ce378d021b4",
   "metadata": {},
   "outputs": [],
   "source": [
    "#cold_star = spectrum(4000, 5)"
   ]
  },
  {
   "cell_type": "code",
   "execution_count": null,
   "id": "50235a34-deab-4876-af18-ac99cf16e7e3",
   "metadata": {},
   "outputs": [],
   "source": [
    "#cold_star"
   ]
  },
  {
   "cell_type": "code",
   "execution_count": null,
   "id": "fe6992ed-a59b-46f7-bfa7-6deeaa2186c4",
   "metadata": {},
   "outputs": [],
   "source": [
    "res_bin_timestamp(cold_star[1], cold_star[0], 200, 18000, 19500)"
   ]
  },
  {
   "cell_type": "code",
   "execution_count": 4,
   "id": "c43aabcc-9611-4cf4-b2ca-43667c2d1be5",
   "metadata": {},
   "outputs": [
    {
     "data": {
      "text/html": [
       "<div><i>Table length=278</i>\n",
       "<table id=\"table5090557424\" class=\"table-striped table-bordered table-condensed\">\n",
       "<thead><tr><th>col1</th><th>col2</th><th>col3</th><th>col4</th><th>col5</th><th>col6</th></tr></thead>\n",
       "<thead><tr><th>float64</th><th>float64</th><th>float64</th><th>float64</th><th>float64</th><th>float64</th></tr></thead>\n",
       "<tr><td>0.6</td><td>781.01897</td><td>228.61</td><td>985626.0</td><td>781.019</td><td>781.019</td></tr>\n",
       "<tr><td>0.603</td><td>748.76297</td><td>225.99</td><td>985626.0</td><td>748.763</td><td>748.763</td></tr>\n",
       "<tr><td>0.606015</td><td>729.26896</td><td>222.672</td><td>985626.0</td><td>729.269</td><td>729.269</td></tr>\n",
       "<tr><td>0.609045075</td><td>712.78296</td><td>219.442</td><td>985626.0</td><td>712.783</td><td>712.783</td></tr>\n",
       "<tr><td>0.6120903004</td><td>707.96196</td><td>216.296</td><td>985626.0</td><td>707.962</td><td>707.962</td></tr>\n",
       "<tr><td>0.6151507519</td><td>726.21895</td><td>213.23</td><td>985626.0</td><td>726.219</td><td>726.219</td></tr>\n",
       "<tr><td>...</td><td>...</td><td>...</td><td>...</td><td>...</td><td>...</td></tr>\n",
       "<tr><td>2.318216467</td><td>2399.3479</td><td>93.9855</td><td>985626.0</td><td>2399.35</td><td>2399.6</td></tr>\n",
       "<tr><td>2.329807549</td><td>2346.2998</td><td>94.3186</td><td>985626.0</td><td>2346.3</td><td>2346.46</td></tr>\n",
       "<tr><td>2.341456587</td><td>2340.9976</td><td>94.6549</td><td>985626.0</td><td>2341.0</td><td>2341.22</td></tr>\n",
       "<tr><td>2.35316387</td><td>2346.2485</td><td>94.9958</td><td>985626.0</td><td>2346.25</td><td>2346.5</td></tr>\n",
       "<tr><td>2.364929689</td><td>2266.9127</td><td>95.3448</td><td>985626.0</td><td>2266.91</td><td>2267.28</td></tr>\n",
       "<tr><td>2.376754338</td><td>2382.7421</td><td>95.6919</td><td>985626.0</td><td>2382.74</td><td>2382.93</td></tr>\n",
       "<tr><td>2.388638109</td><td>2216.8598</td><td>96.0544</td><td>985626.0</td><td>2216.86</td><td>2217.22</td></tr>\n",
       "</table></div>"
      ],
      "text/plain": [
       "<Table length=278>\n",
       "    col1        col2     col3    col4     col5    col6 \n",
       "  float64     float64  float64 float64  float64 float64\n",
       "------------ --------- ------- -------- ------- -------\n",
       "         0.6 781.01897  228.61 985626.0 781.019 781.019\n",
       "       0.603 748.76297  225.99 985626.0 748.763 748.763\n",
       "    0.606015 729.26896 222.672 985626.0 729.269 729.269\n",
       " 0.609045075 712.78296 219.442 985626.0 712.783 712.783\n",
       "0.6120903004 707.96196 216.296 985626.0 707.962 707.962\n",
       "0.6151507519 726.21895  213.23 985626.0 726.219 726.219\n",
       "         ...       ...     ...      ...     ...     ...\n",
       " 2.318216467 2399.3479 93.9855 985626.0 2399.35  2399.6\n",
       " 2.329807549 2346.2998 94.3186 985626.0  2346.3 2346.46\n",
       " 2.341456587 2340.9976 94.6549 985626.0  2341.0 2341.22\n",
       "  2.35316387 2346.2485 94.9958 985626.0 2346.25  2346.5\n",
       " 2.364929689 2266.9127 95.3448 985626.0 2266.91 2267.28\n",
       " 2.376754338 2382.7421 95.6919 985626.0 2382.74 2382.93\n",
       " 2.388638109 2216.8598 96.0544 985626.0 2216.86 2217.22"
      ]
     },
     "execution_count": 4,
     "metadata": {},
     "output_type": "execute_result"
    }
   ],
   "source": [
    "planet_atm = ascii.read(\"planet_atm_spec.dat\")\n",
    "planet_atm"
   ]
  },
  {
   "cell_type": "code",
   "execution_count": null,
   "id": "3a32c7b7-e89f-4469-be82-bf5bce87005c",
   "metadata": {},
   "outputs": [],
   "source": []
  }
 ],
 "metadata": {
  "kernelspec": {
   "display_name": "Python 3 (ipykernel)",
   "language": "python",
   "name": "python3"
  },
  "language_info": {
   "codemirror_mode": {
    "name": "ipython",
    "version": 3
   },
   "file_extension": ".py",
   "mimetype": "text/x-python",
   "name": "python",
   "nbconvert_exporter": "python",
   "pygments_lexer": "ipython3",
   "version": "3.10.9"
  }
 },
 "nbformat": 4,
 "nbformat_minor": 5
}
