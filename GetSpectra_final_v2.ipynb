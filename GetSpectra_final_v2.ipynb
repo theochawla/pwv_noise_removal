{
 "cells": [
  {
   "cell_type": "code",
   "execution_count": 1,
   "id": "036b294e-3ddf-438d-8563-1cd75161cd22",
   "metadata": {},
   "outputs": [
    {
     "name": "stderr",
     "output_type": "stream",
     "text": [
      "/Users/tchawla/anaconda3/lib/python3.10/site-packages/pysynphot/locations.py:345: UserWarning: Extinction files not found in /Users/tchawla/Downloads/grp/redcat/trds/extinction\n",
      "  warnings.warn('Extinction files not found in %s' % (extdir, ))\n"
     ]
    }
   ],
   "source": [
    "import numpy as np\n",
    "from astropy.io import ascii\n",
    "from pylab import *\n",
    "from astropy.table import Table, vstack\n",
    "import pandas as pd\n",
    "from expecto import get_spectrum\n",
    "from scipy.interpolate import RegularGridInterpolator as rgi\n",
    "from itertools import product\n",
    "import pysynphot\n",
    "#%run Interpolate.ipynb\n",
    "#%run GetSpectra.ipynb\n",
    "#%run Binning.ipynb"
   ]
  },
  {
   "cell_type": "code",
   "execution_count": 2,
   "id": "a934d1c4-662e-4790-9baf-b089ee60fccf",
   "metadata": {},
   "outputs": [
    {
     "data": {
      "text/plain": [
       "'\\nif __name__ == \"__main__\":\\n\\n    expecto_spectrum = expecto.get_spectrum(T_eff = 5800, log_g = 4.5, cache = False) #units are ergs/s/cm^2/cm\\n\\n    expecto_flux = expecto_spectrum.flux\\n    expecto_wave = expecto_spectrum.wavelength\\n\\n    wave, flux = normalize_expecto_to_magnitude(expecto_wave, expecto_flux, 10)\\n    plt.plot(wave, flux)\\n    plt.yscale(\\'log\\')\\n    plt.show()\\n    \\n'"
      ]
     },
     "execution_count": 2,
     "metadata": {},
     "output_type": "execute_result"
    }
   ],
   "source": [
    "'''\n",
    "\n",
    "'''\n",
    "\n",
    "def normalize_expecto_to_magnitude(expecto_wave, expecto_flux, magnitude):\n",
    "\n",
    "    expecto_flux /= 10**8 #to ergs/s/cm^2/Ang\n",
    "    h = pysynphot.units.H # ergs * s (plank's constant)\n",
    "    c = pysynphot.units.C #meters/second (speed of light)\n",
    "    c *= 10**10 #Angstroms/second\n",
    "\n",
    "    #converts ergs (energy measurement) to photon count\n",
    "    ergs_to_photons = h*c/expecto_wave\n",
    "\n",
    "    expecto_flux /= ergs_to_photons\n",
    "\n",
    "    sp = pysynphot.ArraySpectrum(expecto_wave.value, expecto_flux.value)\n",
    "    sp_norm = sp.renorm(magnitude, 'vegamag', pysynphot.ObsBandpass('2mass,j'))\n",
    "    \n",
    "\n",
    "    return sp_norm.wave, sp_norm.flux\n",
    "\n",
    "'''\n",
    "if __name__ == \"__main__\":\n",
    "\n",
    "    expecto_spectrum = expecto.get_spectrum(T_eff = 5800, log_g = 4.5, cache = False) #units are ergs/s/cm^2/cm\n",
    "\n",
    "    expecto_flux = expecto_spectrum.flux\n",
    "    expecto_wave = expecto_spectrum.wavelength\n",
    "\n",
    "    wave, flux = normalize_expecto_to_magnitude(expecto_wave, expecto_flux, 10)\n",
    "    plt.plot(wave, flux)\n",
    "    plt.yscale('log')\n",
    "    plt.show()\n",
    "    \n",
    "'''\n"
   ]
  },
  {
   "cell_type": "code",
   "execution_count": 3,
   "id": "323391a8-4c0e-4ffc-ae90-3774df3d35cf",
   "metadata": {},
   "outputs": [],
   "source": [
    "'''\n",
    "function to get spectrum from expecto\n",
    "'''\n",
    "\n",
    "def spectrum(T, mag, surf_g=4.5):\n",
    "    spectrum = get_spectrum(T_eff=T, log_g=surf_g, cache=False)\n",
    "    \n",
    "    wave, flux = normalize_expecto_to_magnitude(spectrum.wavelength, spectrum.flux, mag)\n",
    "    \n",
    "    return wave, flux"
   ]
  },
  {
   "cell_type": "code",
   "execution_count": 6,
   "id": "28bacb88-9575-46d4-a59d-464c31aed2c3",
   "metadata": {},
   "outputs": [],
   "source": [
    "'''\n",
    "function that takes in spectrum and wavelength range, outputs flux and wavelength. \n",
    "\n",
    "This version takes in a wavelength range\n",
    "\n",
    "np.where returns a nested array, to retrieve integer, need to index it at 0 twice.\n",
    "'''\n",
    "\n",
    "def spec_wave_range(spectrum, wave_in, wave_out):\n",
    "    wave_in_converted = wave_in*10000\n",
    "    wave_out_converted = wave_out*10000\n",
    "    wave_in_index = np.where(spectrum[0] == wave_in_converted)[0]\n",
    "    wave_out_index = np.where(spectrum[0] == wave_out_converted)[0]\n",
    "    wavelength = spectrum[0][wave_in_index[0]:wave_out_index[0]]\n",
    "    flux = spectrum[1][wave_in_index[0]:wave_out_index[0]]\n",
    "    return wavelength, flux"
   ]
  },
  {
   "cell_type": "code",
   "execution_count": null,
   "id": "bc312a48-4377-41ba-bf9e-0a69f541dd16",
   "metadata": {},
   "outputs": [],
   "source": [
    "'''\n",
    "Function that takes spectrum, wavelength, and water content as inputs. Interpolates transmission values based on \n",
    "water content and wavelength. Multiplies stellar spectrum with transmission to simulate atmospheric effects from pwv.\n",
    "\n",
    "wavelength range is limited from .6 (inclusive) to 2.4 (non-inclusive).\n",
    "\n",
    "water vapor range is limited from 1 to 5 (inclusive).\n",
    "\n",
    "These are limitations from SKYCALC files read in, could be adjusted with different data.\n",
    "\n",
    "Instead of iterating through every wavelength value to multiply, it passes a list of wavelength values to interpolating \n",
    "function, and multiplies full array simultaneously.\n",
    "'''\n",
    "\n",
    "def spectra_transmission(spectrum, wave_in, wave_out, water_content):\n",
    "    wave_range = spec_wave_range(spectrum, wave_in, wave_out)[0]\n",
    "    flux_range = spec_wave_range(spectrum, wave_in, wave_out)[1]\n",
    "    #print(wave_range)\n",
    "    plt.plot(wave_range, flux_range)\n",
    "    plt.show()\n",
    "\n",
    "    wave_range_adjusted = wave_range/10\n",
    "    \n",
    "    transmission = interpolate(water_content, wave_range_adjusted)\n",
    "    transmission_flux = transmission*flux_range\n",
    "    plt.plot(wave_range, transmission_flux)\n",
    "    plt.yscale(\"log\")\n",
    "    plt.show()"
   ]
  },
  {
   "cell_type": "code",
   "execution_count": null,
   "id": "e29d767b-7750-4592-8f51-436d386c03ba",
   "metadata": {},
   "outputs": [],
   "source": []
  }
 ],
 "metadata": {
  "kernelspec": {
   "display_name": "Python 3",
   "language": "python",
   "name": "python3"
  },
  "language_info": {
   "codemirror_mode": {
    "name": "ipython",
    "version": 3
   },
   "file_extension": ".py",
   "mimetype": "text/x-python",
   "name": "python",
   "nbconvert_exporter": "python",
   "pygments_lexer": "ipython3",
   "version": "3.8.8"
  }
 },
 "nbformat": 4,
 "nbformat_minor": 5
}
