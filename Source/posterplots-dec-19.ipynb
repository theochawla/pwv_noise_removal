{
 "cells": [
  {
   "cell_type": "code",
   "execution_count": 1,
   "id": "fec295f9-9d72-469a-8aa7-4a0c816a643a",
   "metadata": {},
   "outputs": [
    {
     "name": "stderr",
     "output_type": "stream",
     "text": [
      "/opt/anaconda3/lib/python3.8/site-packages/pysynphot/locations.py:345: UserWarning: Extinction files not found in /Users/angelachawla/Documents/research/pwv_noise_removal/Data/HST_data/grp/redcat/trds/extinction\n",
      "  warnings.warn('Extinction files not found in %s' % (extdir, ))\n"
     ]
    }
   ],
   "source": [
    "'''\n",
    "increasing exposure time to account for photon noise\n",
    "\n",
    "need to set up env variable before running notebook\n",
    "\n",
    "terminal command: export PYSYN_CDBS = /Users/tchawla/research/HST_data/grp/redcat/trds\n",
    "or: point towards correct directory. var name mys be PYSYN_CDBS\n",
    "\n",
    "running other notebooks here so I can access their written functions\n",
    "'''\n",
    "\n",
    "import numpy as np\n",
    "from astropy.io import ascii\n",
    "from pylab import *\n",
    "from astropy.table import Table, vstack\n",
    "import pandas as pd\n",
    "from expecto import get_spectrum\n",
    "from scipy.interpolate import RegularGridInterpolator as rgi\n",
    "from scipy.stats import binned_statistic as bin\n",
    "from itertools import product\n",
    "%run Interpolate_final_v2.ipynb\n",
    "%run GetSpectra_final_v2.ipynb\n",
    "%run Binning_final_v2.ipynb\n",
    "%run AddNoise_final_v2.ipynb\n",
    "%run Model.ipynb\n",
    "import batman"
   ]
  },
  {
   "cell_type": "code",
   "execution_count": 2,
   "id": "23bd7f04-b329-496e-8fda-91e07532e55a",
   "metadata": {},
   "outputs": [],
   "source": [
    "water_array = [1.0, 1.5, 2.5, 3.5, 5.0]\n",
    "\n",
    "'''\n",
    "reads in .dat files. col1 is wavelength, col2 is transmission. Files are labeled with water content level in mm \n",
    "water content levels are listed in the array above. resolution is 200,000.\n",
    "'''\n",
    "\n",
    "d = {}\n",
    "i=0\n",
    "for n in water_array:\n",
    "    water_content = str(water_array[i])\n",
    "    d[\"data\"+water_content] = ascii.read(\"../Data/transmission{0}_hi_res.dat\".format(water_content))\n",
    "    d[\"data\"+water_content+\"_pd\"] = d[\"data\"+water_content].to_pandas()\n",
    "    #print(d[\"data\"+water_content+\"_pd\"])\n",
    "    i+=1"
   ]
  },
  {
   "cell_type": "code",
   "execution_count": 3,
   "id": "0faec225-cd08-444a-a8ea-5fa0c29453a0",
   "metadata": {},
   "outputs": [],
   "source": [
    "'''\n",
    "for loop creates transmission values in shape necessary for interpolation function\n",
    "'''\n",
    "water_array = [1.0, 1.5, 2.5, 3.5, 5.0]\n",
    "\n",
    "flux_array = []\n",
    "i=0\n",
    "for n in water_array:\n",
    "    water_array_i = str(water_array[i])\n",
    "    d[\"flux\"+water_array_i] = np.array(d[\"data\"+water_array_i+\"_pd\"][\"col2\"])\n",
    "    flux_array.append(d[\"flux\"+water_array_i])\n",
    "    i+=1"
   ]
  },
  {
   "cell_type": "code",
   "execution_count": 4,
   "id": "e5faa355-49f0-469b-b8dd-d6762b8621bc",
   "metadata": {},
   "outputs": [
    {
     "data": {
      "image/png": "[encoded data removed]",
      "text/plain": [
       "<Figure size 432x288 with 1 Axes>"
      ]
     },
     "metadata": {
      "needs_background": "light"
     },
     "output_type": "display_data"
    }
   ],
   "source": [
    "'''\n",
    "setting angular separation values for pwv timeseries. Separation parameter at the ent of t1 line. \n",
    "Here, separation is 0, testing effect of second order exinction\n",
    "\n",
    "Covers 9 hours (270 points, each point is two minutes)\n",
    "'''\n",
    "\n",
    "\n",
    "timestamps = np.linspace(0,9,270) \n",
    "t, target_star_pwv, target_star_phase, target_star_mean = power_spectrum(12000, 1, 24000, timestamps, mean = 2)\n",
    "t1, comparison_star_pwv, _, _ = power_spectrum(12000, 1, 24000, timestamps, mean = target_star_mean, target = False, phase = target_star_phase, separation = 0)\n",
    "\n",
    "plt.plot(t, target_star_pwv)\n",
    "plt.plot(t, comparison_star_pwv)\n",
    "plt.show()\n"
   ]
  },
  {
   "cell_type": "code",
   "execution_count": 5,
   "id": "590d0b9a-0704-44d3-9154-de2615f86a0b",
   "metadata": {},
   "outputs": [],
   "source": [
    "'''\n",
    "Reading in transit data for three planets. Starting with hot jupiter in this notebook\n",
    "'''\n",
    "\n",
    "\n",
    "water_world_abs1 = ascii.read(\"../Data/water_world_abs1.dat\")\n",
    "water_world_abs2 = ascii.read(\"../Data/water_world_abs2.dat\")\n",
    "water_world_abs3 = ascii.read(\"../Data/water_world_abs3.dat\")\n",
    "water_world_abs4 = ascii.read(\"../Data/water_world_abs4.dat\")\n",
    "\n",
    "hot_jupiter_abs1 = ascii.read(\"../Data/hot_jupiter_abs1.dat\")\n",
    "hot_jupiter_abs2 = ascii.read(\"../Data/hot_jupiter_abs2.dat\")\n",
    "hot_jupiter_abs3 = ascii.read(\"../Data/hot_jupiter_abs3.dat\")\n",
    "hot_jupiter_abs4 = ascii.read(\"../Data/hot_jupiter_abs4.dat\")\n",
    "\n",
    "warm_jupiter_abs1 = ascii.read(\"../Data/warm_jupiter_abs1.dat\")\n",
    "warm_jupiter_abs2 = ascii.read(\"../Data/warm_jupiter_abs2.dat\")\n",
    "warm_jupiter_abs3 = ascii.read(\"../Data/warm_jupiter_abs3.dat\")\n",
    "warm_jupiter_abs4 = ascii.read(\"../Data/warm_jupiter_abs4.dat\")"
   ]
  },
  {
   "cell_type": "code",
   "execution_count": 6,
   "id": "1c76a36c-5d03-4c09-be26-cda4bf7f3fca",
   "metadata": {},
   "outputs": [],
   "source": [
    "'''\n",
    "wave ranges will let us compare index to wavelength for each abs chunk\n",
    "\n",
    "ex: hot_jupiter_abs1[20] will have wavelength wave_range_abs1[20]\n",
    "'''\n",
    "\n",
    "wave_range_abs1 = bin_array(.6, 1, 200)\n",
    "wave_range_abs2 = bin_array(1, 1.25, 200)\n",
    "wave_range_abs3 = bin_array(1.25, 1.56, 200)\n",
    "wave_range_abs4 = bin_array(1.56, 2.1, 200)"
   ]
  },
  {
   "cell_type": "code",
   "execution_count": 7,
   "id": "dcb8104e-de78-4a6b-a57f-af4fa5dbb680",
   "metadata": {},
   "outputs": [],
   "source": [
    "'''\n",
    "mag 4 stars in oct 26 file. here, running with mag 7\n",
    "'''\n",
    "\n",
    "target_spec = np.load(\"../Data/target_T4000_mag7.npy\")\n",
    "ref_spec_3000 = np.load(\"../Data/ref_T3000_mag7.npy\")\n",
    "ref_spec_5000 = np.load(\"../Data/ref_T5000_mag7.npy\")\n",
    "ref_spec_7000 = np.load(\"../Data/ref_T7000_mag7.npy\")"
   ]
  },
  {
   "cell_type": "code",
   "execution_count": null,
   "id": "153547f8-bc5c-4835-9841-5221d52dd6a0",
   "metadata": {},
   "outputs": [],
   "source": [
    "'''\n",
    "function that takes in stellar spectrum, wave range, and res. Output is timeseries of flux based on pwv variability,\n",
    "one timeseries for each wavelength. \n",
    "'''\n",
    "\n",
    "\n",
    "def binned_flux_pwv_v2(spectrum, pwv_input, wave_in, wave_out, res):\n",
    "    stellar = spec_wave_range(spectrum, wave_in, wave_out)\n",
    "    stellar_wave = stellar[0]\n",
    "    stellar_flux = stellar[1]\n",
    "    #pwv = np.load(\"pwv_target.npy\")\n",
    "    \n",
    "    \n",
    "    transmission_array = []\n",
    "    \n",
    "    i=0\n",
    "    for n in stellar_wave:\n",
    "        str_value = str(stellar_wave[i])\n",
    "        value = stellar_wave[i]/10\n",
    "        stellar_flux_value = stellar_flux[i]\n",
    "        transmission  = interpolate_water(pwv_input, value)\n",
    "        flux = stellar_flux_value*transmission\n",
    "        d[str_value+\"_trans_array\"] = np.array(flux)\n",
    "    \n",
    "        transmission_array.append(d[str_value+\"_trans_array\"])\n",
    "        i+=1\n",
    "        \n",
    "    transmission_array = np.array(transmission_array)\n",
    "    \n",
    "    time_array = np.arange(0, len(pwv_input), 1)\n",
    "    \n",
    "    transmission_array_binned = []\n",
    "    #wave_in_converted = wave_in*1000\n",
    "    #wave_out_converted = wave_out*1000\n",
    "    wave_in_converted = wave_in*100\n",
    "    wave_out_converted = wave_out*100\n",
    "    \n",
    "    #print(stellar_wave)\n",
    "    j=0\n",
    "    #wave_array = res_bin_timestamp(transmission_array[:,j], stellar_wave, res, wave_in_converted, wave_out_converted)[1]\n",
    "    for n in time_array:\n",
    "        \n",
    "        bin_1 = res_bin_timestamp(transmission_array[:,j], stellar_wave, res, wave_in_converted, wave_out_converted)\n",
    "        transmission_array_binned.append(bin_1)\n",
    "        j+=1\n",
    "    \n",
    "    return transmission_array_binned"
   ]
  },
  {
   "cell_type": "code",
   "execution_count": 41,
   "id": "3a1184d4-bfcf-4950-af75-90ec73f29ce7",
   "metadata": {},
   "outputs": [
    {
     "data": {
      "text/plain": [
       "'\\nthroughput of 0.4, swope is 1m in diameter, hole is .5m in diameter\\n'"
      ]
     },
     "execution_count": 41,
     "metadata": {},
     "output_type": "execute_result"
    }
   ],
   "source": [
    "'''\n",
    "calculates photon noise, normalized to 0. throughput and transmission are fractional values. Transmission is set up to be\n",
    "calculated over array of water content values (for pwv timeseries). \n",
    "\n",
    "Questions: how do we get initial photon count from the star from the flux? In practice I think we could get that value\n",
    "directly from Henrietta's CCD detectors, but how do we do it simulation?\n",
    "\n",
    "I guess if it's normalized, it's really calculting a percentage value and not actual changes in flux, and any flux values\n",
    "could be used.\n",
    "\n",
    "What units for exposure time? (pwv time series, each point is 1 minute) (needs to compare to flux, meausured in photons/sec)\n",
    "\n",
    "re-write in terms of gaussian\n",
    "\n",
    "after re-writing: I'm getting significantly different values from the gaussian and poisson distributions. It seems like \n",
    "poisson dist has much (orders of mag) larger std dev. Maybe I'm using the np version of the random generator wrong?\n",
    "I thought poisson std dev was supposed to decrease with point count, but it still seems large even with values of 10**14\n",
    "\n",
    "missing bin size, should be low resolution bin size\n",
    "\n",
    "Note: right now, bin sizes are in angstroms, since this is the unit that the hi-res flux comes with. Bin sizes are filtered\n",
    "from binning function to stacking to division_noise to photon_noise. bin sizes for 1.8-1.95 microns are about 180-190 A. \n",
    "'''\n",
    "\n",
    "def photon_noise(flux, bin_size, mirror_diameter = 100, exp_time = 120, throughput = .4):\n",
    "    \n",
    "    mirror_area = np.pi*((mirror_diameter/2)**2) - np.pi*((25)**2)\n",
    "    #print(\"mirror area:\"+str(mirror_area))\n",
    "    \n",
    "    #bin_size_array = [bin_array[1]-bin_array[0]]\n",
    "    '''\n",
    "    i=0\n",
    "    for n in bin_array:\n",
    "        if i == len(bin_array)-1:\n",
    "            break\n",
    "        bin_size2 = bin_array[i+1] - bin_array[i]\n",
    "        bin_size_array.append(bin_size2)\n",
    "        j+=1\n",
    "    '''\n",
    "    num_photons = flux*mirror_area*exp_time*throughput*bin_size\n",
    "    #print(\"num photons:\"+str(num_photons[0:10]))\n",
    "    noise_std_dev = 1/(num_photons**(1/2))\n",
    "    #print(\"noise std dev: \"+str(noise_std_dev))\n",
    "    \n",
    "    photon_noise_gaussian = np.random.normal(1, noise_std_dev, len(flux))\n",
    "    \n",
    "    return photon_noise_gaussian\n",
    "\n",
    "\n",
    "'''\n",
    "throughput of 0.4, swope is 1m in diameter, hole is .5m in diameter\n",
    "'''"
   ]
  },
  {
   "cell_type": "code",
   "execution_count": 10,
   "id": "9b92724f-3640-41b4-aa67-215abf62c674",
   "metadata": {},
   "outputs": [],
   "source": [
    "target_binned_abs3 = binned_flux_pwv_v2(target_spec, target_star_pwv, 1.25, 1.56, 200)"
   ]
  },
  {
   "cell_type": "code",
   "execution_count": 11,
   "id": "2be39264-c704-4b5a-bc70-edb1da2af2a2",
   "metadata": {},
   "outputs": [],
   "source": [
    "ref_binned_abs3 = binned_flux_pwv_v2(ref_spec_3000, comparison_star_pwv, 1.25, 1.56, 200)"
   ]
  },
  {
   "cell_type": "code",
   "execution_count": 12,
   "id": "3663ac5d-57c4-4967-989c-78bcea2c8c57",
   "metadata": {},
   "outputs": [],
   "source": [
    "target_stacked_abs3 = stacking(target_binned_abs3)\n",
    "ref_stacked_abs3 = stacking(ref_binned_abs3)"
   ]
  },
  {
   "cell_type": "code",
   "execution_count": 40,
   "id": "d86c03bf-5bc0-4517-96b6-5bbcad192e0f",
   "metadata": {},
   "outputs": [
    {
     "data": {
      "text/plain": [
       "[<matplotlib.lines.Line2D at 0x7fddbc074610>]"
      ]
     },
     "execution_count": 40,
     "metadata": {},
     "output_type": "execute_result"
    },
    {
     "data": {
      "image/png": "[encoded data removed]",
      "text/plain": [
       "<Figure size 432x288 with 1 Axes>"
      ]
     },
     "metadata": {
      "needs_background": "light"
     },
     "output_type": "display_data"
    }
   ],
   "source": [
    "plt.plot(target_stacked_abs3[0][:,1])\n",
    "#plt.plot(ref_stacked_abs3[0][30])"
   ]
  },
  {
   "cell_type": "code",
   "execution_count": 36,
   "id": "054c37e7-a5f8-4fae-8cf0-04ebd22c4138",
   "metadata": {},
   "outputs": [
    {
     "data": {
      "text/plain": [
       "44"
      ]
     },
     "execution_count": 36,
     "metadata": {},
     "output_type": "execute_result"
    }
   ],
   "source": [
    "len(target_stacked_abs3[0][30])"
   ]
  },
  {
   "cell_type": "code",
   "execution_count": 18,
   "id": "8a3afaf1-7032-425a-a252-dcf46d94c2aa",
   "metadata": {},
   "outputs": [],
   "source": [
    "'''\n",
    "batman transit parameters. Using real rp and period\n",
    "'''\n",
    "\n",
    "params_hot_jupiter = batman.TransitParams()       #object to store transit parameters\n",
    "params_hot_jupiter.t0 = 0.                        #time of inferior conjunction\n",
    "params_hot_jupiter.per = 4.7361                       #orbital period \n",
    "\n",
    "# assume rp of .07 for now\n",
    "params_hot_jupiter.rp = 0.04644                       #planet radi`us (in units of stellar radii)\n",
    "#at each wavelength, add transit depth for atm. Will alter rp parameter\n",
    "#change in atm depth in ppm\n",
    "#Depth is rp^2 (because it's in units of solar radii)\n",
    "#As such, rp is sqrt of depth\n",
    "\n",
    "\n",
    "\n",
    "params_hot_jupiter.a = 4.98                        #semi-major axis (in units of stellar radii)\n",
    "params_hot_jupiter.inc = 90                      #orbital inclination (in degrees)\n",
    "params_hot_jupiter.ecc = 0.                       #eccentricity\n",
    "params_hot_jupiter.w = 90.                        #longitude of periastron (in degrees)\n",
    "params_hot_jupiter.limb_dark = \"linear\"        #limb darkening model\n",
    "params_hot_jupiter.u = [0.5]      #limb darkening coefficients [u1, u2, u3, u4]\n",
    "\n",
    "t = np.linspace(-0.5, 0.5, 270)  #times at which to calculate light curve\n",
    "model_hot_jupiter = batman.TransitModel(params_hot_jupiter, t)    #initializes model"
   ]
  },
  {
   "cell_type": "code",
   "execution_count": 19,
   "id": "86a3eb7f-52be-43ee-83e3-30403249765e",
   "metadata": {},
   "outputs": [
    {
     "data": {
      "text/plain": [
       "Text(0.5, 0, 'Phase')"
      ]
     },
     "execution_count": 19,
     "metadata": {},
     "output_type": "execute_result"
    },
    {
     "data": {
      "image/png": "[encoded data removed]",
      "text/plain": [
       "<Figure size 432x288 with 1 Axes>"
      ]
     },
     "metadata": {
      "needs_background": "light"
     },
     "output_type": "display_data"
    }
   ],
   "source": [
    "'''\n",
    "plotted simulated transit, non-wavelength dependent\n",
    "'''\n",
    "transit = model_hot_jupiter.light_curve(params_hot_jupiter)\n",
    "plt.plot(t, transit)\n",
    "\n",
    "plt.title(\"Hot Jupiter Simulated Transit\")\n",
    "plt.ylabel(\"Transit Depth\")\n",
    "plt.xlabel(\"Phase\")\n",
    "\n",
    "#plt.savefig(\"transit.png\")"
   ]
  },
  {
   "cell_type": "code",
   "execution_count": 42,
   "id": "b2e3c398-cc68-4a7e-93f7-a2556d664900",
   "metadata": {},
   "outputs": [],
   "source": [
    "def division_noise_transit_refinc(target_array, ref_array, atm, params):\n",
    "    new_array1 = []\n",
    "    target_array_1 = []\n",
    "    ref_array_1 = []\n",
    "    bin_size_array = [target_array[1][1]-target_array[1][0]]\n",
    "    \n",
    "    t = np.linspace(-0.5, 0.5, 270)\n",
    "    #print(\"right function!\")\n",
    "    bulk_transit_depth = params.rp**2\n",
    "    print(\"bulk_transit_depth: \"+str(bulk_transit_depth))\n",
    "    print(\"bulk_rp: \"+str(params.rp))\n",
    "    #new_array2\n",
    "    i=0\n",
    "    for n in target_array[0][0]:\n",
    "        if i >= len(atm[\"col5\"]):\n",
    "            break\n",
    "        \n",
    "        bin_size = target_array[1][i+1]-target_array[1][i]\n",
    "        #print(\"bin size: \"+str(bin_size))\n",
    "        bin_size_array.append(bin_size)\n",
    "        target_array_i = np.array(target_array[0][:,i])\n",
    "        #print(target_array_i[50:60])\n",
    "        #print(\"original target array\"+str(target_array_i[0:10]))\n",
    "        \n",
    "        #adding transit\n",
    "        atm_transit_i = atm[\"col5\"][i]/10**6\n",
    "        #print(\"atm transit: \"+ str(atm_transit_i))\n",
    "        #print(\"atm depth\"+str(atm_transit_i))\n",
    "        \n",
    "        total_transit_depth = bulk_transit_depth + atm_transit_i\n",
    "        #print(\"total transit depth: \"+ str(total_transit_depth))\n",
    "        rp_i = np.sqrt(total_transit_depth)\n",
    "        #print(\"rp i : \"+ str(rp_i))\n",
    "        params.rp = rp_i\n",
    "        #print(\"edited param : \"+ str(params.rp))\n",
    "        #print(\"rp\"+str(params.rp))\n",
    "        model = batman.TransitModel(params, t)\n",
    "        transit = model.light_curve(params)\n",
    "        #print(\"transit model\"+str(transit[500:510]))\n",
    "        plt.plot(transit)\n",
    "        \n",
    "        #flux = stellar_flux_value*transmission\n",
    "        #print(\"transit length \" + str(len(transit)))\n",
    "        #print(\"target array length \" + str(len(target_array_i)))\n",
    "        transit_flux = transit*target_array_i\n",
    "\n",
    "        #plt.plot(transit_flux)\n",
    "        #print(\"flux with transit\"+str(transit_flux[0:10]))\n",
    "        \n",
    "        \n",
    "        ref_array_i = np.array(ref_array[0][:,i])\n",
    "        #print(ref_array_i[50:60])\n",
    "        target_noise = photon_noise(transit_flux, bin_size)\n",
    "        #print(\"target_noise: \"+str(target_noise))\n",
    "        ref_noise = photon_noise(ref_array_i, bin_size)\n",
    "        #print(\"ref_noise: \"+str(ref_noise))\n",
    "        noisy_target_i = target_noise*transit_flux\n",
    "        target_array_1.append(noisy_target_i)\n",
    "        #plt.plot(noisy_target_i)\n",
    "        #print(\"target_noisy flux: \"+str(noisy_target_i))\n",
    "        noisy_ref_i = ref_noise*ref_array_i\n",
    "        ref_array_1.append(noisy_ref_i)\n",
    "        #print(\"ref_noisy flux: \"+str(noisy_ref_i))\n",
    "        divided_i = noisy_target_i/noisy_ref_i\n",
    "        #plt.plot(divided_i)\n",
    "        #print(\"div_noisy flux: \"+str(divided_i))\n",
    "        new_array1.append(divided_i)\n",
    "        i+=1\n",
    "        #if i == 3:\n",
    "            #break\n",
    "    return new_array1, target_array_1, ref_array_1\n",
    "\n",
    "#cold_star_abs1_test3[:,0]\n"
   ]
  },
  {
   "cell_type": "code",
   "execution_count": null,
   "id": "de26f2c4-49c1-47a4-8217-582a92e8569c",
   "metadata": {},
   "outputs": [],
   "source": []
  },
  {
   "cell_type": "code",
   "execution_count": 43,
   "id": "db49eca0-6631-45ab-bc74-34d1336147a7",
   "metadata": {},
   "outputs": [
    {
     "name": "stdout",
     "output_type": "stream",
     "text": [
      "bulk_transit_depth: 0.0021566736\n",
      "bulk_rp: 0.04644\n"
     ]
    },
    {
     "data": {
      "image/png": "[encoded data removed]",
      "text/plain": [
       "<Figure size 432x288 with 1 Axes>"
      ]
     },
     "metadata": {
      "needs_background": "light"
     },
     "output_type": "display_data"
    }
   ],
   "source": [
    "params_hot_jupiter.rp = 0.04644  \n",
    "diff = division_noise_transit_refinc(target_stacked_abs3, ref_stacked_abs3, hot_jupiter_abs3, params_hot_jupiter)"
   ]
  },
  {
   "cell_type": "code",
   "execution_count": 48,
   "id": "0590732a-7898-4520-89db-7705c951d92f",
   "metadata": {},
   "outputs": [
    {
     "data": {
      "text/plain": [
       "[<matplotlib.lines.Line2D at 0x7fddbc6b8f40>]"
      ]
     },
     "execution_count": 48,
     "metadata": {},
     "output_type": "execute_result"
    },
    {
     "data": {
      "image/png": "[encoded data removed]",
      "text/plain": [
       "<Figure size 432x288 with 1 Axes>"
      ]
     },
     "metadata": {
      "needs_background": "light"
     },
     "output_type": "display_data"
    }
   ],
   "source": [
    "#plt.plot(diff[0][25])\n",
    "plt.plot(diff[1][25])\n",
    "plt.plot(diff[2][25])"
   ]
  },
  {
   "cell_type": "code",
   "execution_count": null,
   "id": "14b08308-869c-4c1b-b0db-7d54ff35977c",
   "metadata": {},
   "outputs": [],
   "source": [
    "def normalize(diff):\n",
    "    '''\n",
    "    target_spec = spectrum(target_temp, mag1)\n",
    "    ref_spec = spectrum(ref_temp, mag2)\n",
    "    \n",
    "    target_binned = binned_flux_pwv_v2(target_spec, target_pwv, wave_in, wave_out, res)\n",
    "    ref_binned = binned_flux_pwv_v2(ref_spec, ref_pwv, wave_in, wave_out, res)\n",
    "    target_stacked = stacking(target_binned)\n",
    "    ref_stacked = stacking(ref_binned)\n",
    "    diff = division_noise(target_stacked, ref_stacked)\n",
    "    \n",
    "    #print(diff[0])\n",
    "    '''\n",
    "    normalized_array = []\n",
    "    #photon_noise_array = \n",
    "    \n",
    "    i=0\n",
    "    for n in diff:\n",
    "        '''\n",
    "        input to photon noise needs to be actual flux value, not relative value after division. Needs to be multiplied into\n",
    "        both target and ref fluxes?\n",
    "        '''\n",
    "        #photon_noise_i = photon_noise(diff[i], .5, exp_time, throughput)\n",
    "        #print(photon_noise_i)\n",
    "        #noisy_diff = diff[i]*photon_noise_i\n",
    "        diff_mean = (np.mean(diff[i][0:150])+np.mean(diff[i][390:540]))/2\n",
    "        normalized = (diff[i]-diff_mean)/diff_mean\n",
    "        normalized_array.append(normalized)\n",
    "        #j=0\n",
    "        #for n in normalized:\n",
    "            #photon_noise(normalized[j], .5, exp_time, throughput\n",
    "        #print(diff_mean)\n",
    "        i+=1\n",
    "    #diff_mean = np.mean(diff)\n",
    "    #normalized = (diff-diff_mean)/diff_mean\n",
    "    \n",
    "    \n",
    "    return normalized_array"
   ]
  },
  {
   "cell_type": "code",
   "execution_count": 45,
   "id": "deef12f0-d4e8-4e0e-9bf9-f94d7a2fef5e",
   "metadata": {},
   "outputs": [
    {
     "data": {
      "text/plain": [
       "270"
      ]
     },
     "execution_count": 45,
     "metadata": {},
     "output_type": "execute_result"
    }
   ],
   "source": [
    "len(diff[1][1])"
   ]
  },
  {
   "cell_type": "code",
   "execution_count": 51,
   "id": "34db4bc0-9243-4259-a392-e100ff69f652",
   "metadata": {},
   "outputs": [],
   "source": [
    "def it_norm(array):\n",
    "    normalized_array = []\n",
    "    i=0\n",
    "    for n in array:\n",
    "        diff_mean = (np.mean(diff[i][0:75])+np.mean(diff[i][195:270]))/2\n",
    "        normalized = (diff[i]-diff_mean)/diff_mean\n",
    "        normalized_array.append(normalized)\n",
    "        i+=1\n",
    "    return normalized_array"
   ]
  },
  {
   "cell_type": "code",
   "execution_count": null,
   "id": "201ae1cd-3716-4abb-8274-7ec12fcba7be",
   "metadata": {},
   "outputs": [],
   "source": []
  }
 ],
 "metadata": {
  "kernelspec": {
   "display_name": "Python 3",
   "language": "python",
   "name": "python3"
  },
  "language_info": {
   "codemirror_mode": {
    "name": "ipython",
    "version": 3
   },
   "file_extension": ".py",
   "mimetype": "text/x-python",
   "name": "python",
   "nbconvert_exporter": "python",
   "pygments_lexer": "ipython3",
   "version": "3.8.8"
  }
 },
 "nbformat": 4,
 "nbformat_minor": 5
}
